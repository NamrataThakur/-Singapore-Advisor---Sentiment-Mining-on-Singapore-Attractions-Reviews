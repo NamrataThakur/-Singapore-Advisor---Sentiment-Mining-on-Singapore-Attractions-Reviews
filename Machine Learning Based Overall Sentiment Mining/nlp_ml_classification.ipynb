{
 "cells": [
  {
   "cell_type": "code",
   "execution_count": 1,
   "id": "f2848ec0",
   "metadata": {},
   "outputs": [],
   "source": [
    "import pandas as pd\n",
    "import numpy as np\n",
    "import matplotlib.pyplot as plt\n",
    "from sklearn.model_selection import train_test_split\n",
    "from sklearn.ensemble import RandomForestClassifier\n",
    "from sklearn.metrics import precision_recall_fscore_support\n",
    "from sklearn.svm import SVC\n",
    "from sklearn.linear_model import LogisticRegression\n",
    "from xgboost import XGBClassifier\n",
    "from sklearn.utils.class_weight import compute_class_weight\n",
    "from sklearn.model_selection import StratifiedKFold\n",
    "from lightgbm import LGBMClassifier\n",
    "from tqdm import tqdm\n",
    "from sklearn.feature_extraction.text import TfidfVectorizer\n",
    "from gensim.models import Word2Vec\n",
    "from imblearn.over_sampling import RandomOverSampler, SMOTE, ADASYN\n",
    "from imblearn.under_sampling import RandomUnderSampler\n",
    "from imblearn.pipeline import Pipeline\n",
    "import pickle\n",
    "from hyperopt import STATUS_OK, Trials, fmin, hp, tpe\n",
    "import xgboost as xgb\n",
    "from sklearn.metrics import f1_score\n",
    "from collections import Counter\n",
    "from sklearn.metrics import confusion_matrix, plot_confusion_matrix, classification_report\n",
    "\n",
    "\n",
    "pd.set_option('display.max_rows',100)\n",
    "pd.set_option('display.max_columns',100)"
   ]
  },
  {
   "cell_type": "code",
   "execution_count": 2,
   "id": "8736cf30",
   "metadata": {},
   "outputs": [],
   "source": [
    "data1 = pd.read_csv('../data/vector2.csv')"
   ]
  },
  {
   "cell_type": "code",
   "execution_count": 3,
   "id": "43d11847",
   "metadata": {},
   "outputs": [
    {
     "data": {
      "text/plain": [
       "((125251, 12), (31313, 12), (39142, 12))"
      ]
     },
     "execution_count": 3,
     "metadata": {},
     "output_type": "execute_result"
    }
   ],
   "source": [
    "# # split the data in to train test and unseen\n",
    "\n",
    "# sampled, unseen = train_test_split(data1, random_state=0, test_size=0.2, stratify=data1['review_rating'])\n",
    "# train, test = train_test_split(sampled, random_state=0, test_size=0.2,stratify=sampled['review_rating'])\n",
    "# train.shape, test.shape, unseen.shape"
   ]
  },
  {
   "cell_type": "code",
   "execution_count": 3,
   "id": "a9e29f9a",
   "metadata": {},
   "outputs": [],
   "source": [
    "train = data1[data1['is_train']=='train']\n",
    "test = data1[data1['is_train']=='test']\n",
    "unseen = data1[data1['is_train']=='unseen']\n",
    "\n",
    "# to_sav = pd.concat([train, test, unseen], axis=0)\n",
    "# to_sav.to_csv('vector2.csv',index=False)"
   ]
  },
  {
   "cell_type": "markdown",
   "id": "9b6f0a23",
   "metadata": {},
   "source": [
    "# create weighted tf idf weighted word2vec"
   ]
  },
  {
   "cell_type": "code",
   "execution_count": 4,
   "id": "9021cdb3",
   "metadata": {},
   "outputs": [],
   "source": [
    "\n",
    "\n",
    "sentences = [sentence.split() for sentence in train['lemmatized_clean_review_text']]\n",
    "w2v_model = Word2Vec(sentences, vector_size=100, window=5, min_count=5, workers=4)\n",
    "w2v_words = w2v_model.wv.index_to_key\n",
    "\n",
    "# Define the TF-IDF vectorizer\n",
    "vectorizer = TfidfVectorizer(ngram_range=(1,2), max_features=10000)\n"
   ]
  },
  {
   "cell_type": "code",
   "execution_count": 5,
   "id": "c2b030b4",
   "metadata": {},
   "outputs": [
    {
     "name": "stderr",
     "output_type": "stream",
     "text": [
      "/Users/sarathyashu/opt/anaconda3/lib/python3.9/site-packages/sklearn/utils/deprecation.py:87: FutureWarning: Function get_feature_names is deprecated; get_feature_names is deprecated in 1.0 and will be removed in 1.2. Please use get_feature_names_out instead.\n",
      "  warnings.warn(msg, category=FutureWarning)\n"
     ]
    }
   ],
   "source": [
    "x_train_tfidf = vectorizer.fit_transform(train['lemmatized_clean_review_text'])\n",
    "# we are converting a dictionary with word as a key, and the idf as a value\n",
    "dictionary = dict(zip(vectorizer.get_feature_names(), list(vectorizer.idf_)))"
   ]
  },
  {
   "cell_type": "code",
   "execution_count": 6,
   "id": "2d31f11e",
   "metadata": {},
   "outputs": [],
   "source": [
    "def get_weighted_w2v_tfidf(vectorizer, sentences):\n",
    "    # TF-IDF weighted Word2Vec\n",
    "\n",
    "    tfidf_feat = vectorizer.get_feature_names() # tfidf words/col-names\n",
    "\n",
    "    tfidf_sent_vectors = []; # the tfidf-w2v for each sentence/review is stored in this list\n",
    "    row=0\n",
    "    for sent in tqdm(sentences): # for each review/sentence \n",
    "        sent_vec = np.zeros(100) # as word vectors are of zero length\n",
    "        weight_sum =0; # num of words with a valid vector in the sentence/review\n",
    "        for word in sent: # for each word in a review/sentence\n",
    "            if word in w2v_words and word in tfidf_feat:\n",
    "                vec = w2v_model.wv[word]\n",
    "    #             tf_idf = tf_idf_matrix[row, tfidf_feat.index(word)]\n",
    "                # to reduce the computation we are \n",
    "                # dictionary[word] = idf value of word in whole courpus\n",
    "                # sent.count(word) = tf valeus of word in this review\n",
    "                tf_idf = dictionary[word]*(sent.count(word)/len(sent))\n",
    "                sent_vec += (vec * tf_idf)\n",
    "                weight_sum += tf_idf\n",
    "        if weight_sum != 0:\n",
    "            sent_vec /= weight_sum\n",
    "        tfidf_sent_vectors.append(sent_vec)\n",
    "        row += 1\n",
    "        \n",
    "    print(len(tfidf_sent_vectors))\n",
    "    return tfidf_sent_vectors"
   ]
  },
  {
   "cell_type": "code",
   "execution_count": 7,
   "id": "62bb0ec0",
   "metadata": {},
   "outputs": [
    {
     "name": "stderr",
     "output_type": "stream",
     "text": [
      "100%|██████████████████████████████████| 125251/125251 [03:56<00:00, 529.00it/s]\n"
     ]
    },
    {
     "name": "stdout",
     "output_type": "stream",
     "text": [
      "125251\n"
     ]
    },
    {
     "name": "stderr",
     "output_type": "stream",
     "text": [
      "/var/folders/y4/_5b5gdl93l39cx1p6b825jlm0000gn/T/ipykernel_83638/240263936.py:1: SettingWithCopyWarning: \n",
      "A value is trying to be set on a copy of a slice from a DataFrame.\n",
      "Try using .loc[row_indexer,col_indexer] = value instead\n",
      "\n",
      "See the caveats in the documentation: https://pandas.pydata.org/pandas-docs/stable/user_guide/indexing.html#returning-a-view-versus-a-copy\n",
      "  train['vector'] = get_weighted_w2v_tfidf(vectorizer, sentences)\n"
     ]
    }
   ],
   "source": [
    "train['vector'] = get_weighted_w2v_tfidf(vectorizer, sentences)"
   ]
  },
  {
   "cell_type": "code",
   "execution_count": 8,
   "id": "a4b57708",
   "metadata": {},
   "outputs": [
    {
     "name": "stderr",
     "output_type": "stream",
     "text": [
      "100%|████████████████████████████████████| 31313/31313 [01:06<00:00, 469.38it/s]\n"
     ]
    },
    {
     "name": "stdout",
     "output_type": "stream",
     "text": [
      "31313\n"
     ]
    },
    {
     "name": "stderr",
     "output_type": "stream",
     "text": [
      "/var/folders/y4/_5b5gdl93l39cx1p6b825jlm0000gn/T/ipykernel_83638/1702860722.py:4: SettingWithCopyWarning: \n",
      "A value is trying to be set on a copy of a slice from a DataFrame.\n",
      "Try using .loc[row_indexer,col_indexer] = value instead\n",
      "\n",
      "See the caveats in the documentation: https://pandas.pydata.org/pandas-docs/stable/user_guide/indexing.html#returning-a-view-versus-a-copy\n",
      "  test['vector'] = get_weighted_w2v_tfidf(vectorizer, test_sentences)\n",
      "100%|████████████████████████████████████| 39142/39142 [01:44<00:00, 374.36it/s]\n"
     ]
    },
    {
     "name": "stdout",
     "output_type": "stream",
     "text": [
      "39142\n"
     ]
    },
    {
     "name": "stderr",
     "output_type": "stream",
     "text": [
      "/var/folders/y4/_5b5gdl93l39cx1p6b825jlm0000gn/T/ipykernel_83638/1702860722.py:5: SettingWithCopyWarning: \n",
      "A value is trying to be set on a copy of a slice from a DataFrame.\n",
      "Try using .loc[row_indexer,col_indexer] = value instead\n",
      "\n",
      "See the caveats in the documentation: https://pandas.pydata.org/pandas-docs/stable/user_guide/indexing.html#returning-a-view-versus-a-copy\n",
      "  unseen['vector'] = get_weighted_w2v_tfidf(vectorizer, unseen_sentences)\n"
     ]
    }
   ],
   "source": [
    "test_sentences = [sentence.split() for sentence in test['lemmatized_clean_review_text']]\n",
    "unseen_sentences = [sentence.split() for sentence in unseen['lemmatized_clean_review_text']]\n",
    "\n",
    "test['vector'] = get_weighted_w2v_tfidf(vectorizer, test_sentences)\n",
    "unseen['vector'] = get_weighted_w2v_tfidf(vectorizer, unseen_sentences)"
   ]
  },
  {
   "cell_type": "markdown",
   "id": "c139cd43",
   "metadata": {},
   "source": [
    "# Model Selection using Kfold "
   ]
  },
  {
   "cell_type": "code",
   "execution_count": 9,
   "id": "41760eda",
   "metadata": {},
   "outputs": [],
   "source": [
    "models = {'lgbm': LGBMClassifier(random_state=0, class_weight='balanced'),\\\n",
    "         'rf': RandomForestClassifier(random_state=0,class_weight='balanced'),\\\n",
    "         'lr': LogisticRegression(random_state=0,class_weight='balanced'),\\\n",
    "         'xgb': XGBClassifier(random_state=0)}\n",
    "\n",
    "def evaluate_model(y_true, y_pred):\n",
    "    precision, recall, f1, _ = precision_recall_fscore_support(y_true, y_pred, average='macro')\n",
    "    return precision, recall, f1\n",
    "\n",
    "\n",
    "skf = StratifiedKFold(n_splits=5, random_state=0, shuffle=True)\n",
    "\n",
    "# reset index\n",
    "train = train.reset_index(drop=True)\n",
    "# Create a new column to store the fold number\n",
    "train['fold'] = np.nan\n",
    "\n",
    "# Perform stratified k-fold cross-validation\n",
    "for fold, (train_index, test_index) in enumerate(skf.split(train, train['review_rating'])):\n",
    "    # Update the fold number column for the current fold\n",
    "    train.loc[test_index, 'fold'] = fold"
   ]
  },
  {
   "cell_type": "code",
   "execution_count": null,
   "id": "a29ddd43",
   "metadata": {},
   "outputs": [],
   "source": [
    "results_cn = []\n",
    "\n",
    "for m in models.keys():\n",
    "\n",
    "    # choose model\n",
    "    model = models[m]\n",
    "    \n",
    "    # create the pipeline\n",
    "    pipe = Pipeline([\n",
    "                ('over',  RandomOverSampler(sampling_strategy={0:5000,1:5000,2:10000,3:30000,4:60500})),\n",
    "                ('under', RandomUnderSampler(sampling_strategy= {0: 5000, 1: 5000, 2:10000, 3:20000,4:30000})),\n",
    "                ('model',model)\n",
    "            ])\n",
    "\n",
    "    results = {}\n",
    "    \n",
    "    # iterate through folds\n",
    "    for i in sorted(train['fold'].unique()):\n",
    "        \n",
    "        train['review_rating1'] = train['review_rating']-1\n",
    "        \n",
    "        val = train[train['fold']==i]\n",
    "        n_train = train[train['fold']!=i]\n",
    "\n",
    "        # assign x and y\n",
    "        x_train = np.concatenate(n_train['vector'].apply(lambda x: x.reshape(1,-1)).values)\n",
    "        x_val = np.concatenate(val['vector'].apply(lambda x: x.reshape(1,-1)).values)\n",
    "\n",
    "        y_train = n_train['review_rating1'].values\n",
    "        y_val = val['review_rating1'].values\n",
    "        \n",
    "        pipe.fit(x_train, y_train)\n",
    "        pred = pipe.predict(x_val)\n",
    "        # validate predictions\n",
    "        precision, recall, f1 = evaluate_model(y_val, pred)\n",
    "        results[f'fold{int(i)}'] = {'precision':precision,'recall':recall, 'f1':f1}\n",
    "    \n",
    "    # convert to dataframe\n",
    "    results = pd.DataFrame(results)\n",
    "    results['model'] = m\n",
    "    \n",
    "    # display results\n",
    "    display(results)\n",
    "    \n",
    "    results_cn.append(results)\n",
    "    \n"
   ]
  },
  {
   "cell_type": "code",
   "execution_count": 50,
   "id": "294d2585",
   "metadata": {},
   "outputs": [],
   "source": [
    "results_cn2 = pd.concat(results_cn)"
   ]
  },
  {
   "cell_type": "code",
   "execution_count": 70,
   "id": "f317896c",
   "metadata": {},
   "outputs": [
    {
     "data": {
      "text/html": [
       "<div>\n",
       "<style scoped>\n",
       "    .dataframe tbody tr th:only-of-type {\n",
       "        vertical-align: middle;\n",
       "    }\n",
       "\n",
       "    .dataframe tbody tr th {\n",
       "        vertical-align: top;\n",
       "    }\n",
       "\n",
       "    .dataframe thead th {\n",
       "        text-align: right;\n",
       "    }\n",
       "</style>\n",
       "<table border=\"1\" class=\"dataframe\">\n",
       "  <thead>\n",
       "    <tr style=\"text-align: right;\">\n",
       "      <th></th>\n",
       "      <th>f1</th>\n",
       "      <th>precision</th>\n",
       "      <th>recall</th>\n",
       "    </tr>\n",
       "    <tr>\n",
       "      <th>model</th>\n",
       "      <th></th>\n",
       "      <th></th>\n",
       "      <th></th>\n",
       "    </tr>\n",
       "  </thead>\n",
       "  <tbody>\n",
       "    <tr>\n",
       "      <th>lgbm</th>\n",
       "      <td>0.356471</td>\n",
       "      <td>0.336151</td>\n",
       "      <td>0.426658</td>\n",
       "    </tr>\n",
       "    <tr>\n",
       "      <th>lr</th>\n",
       "      <td>0.321154</td>\n",
       "      <td>0.313570</td>\n",
       "      <td>0.440663</td>\n",
       "    </tr>\n",
       "    <tr>\n",
       "      <th>rf</th>\n",
       "      <td>0.355295</td>\n",
       "      <td>0.478201</td>\n",
       "      <td>0.325681</td>\n",
       "    </tr>\n",
       "    <tr>\n",
       "      <th>xgb</th>\n",
       "      <td>0.380359</td>\n",
       "      <td>0.396003</td>\n",
       "      <td>0.369931</td>\n",
       "    </tr>\n",
       "  </tbody>\n",
       "</table>\n",
       "</div>"
      ],
      "text/plain": [
       "             f1  precision    recall\n",
       "model                               \n",
       "lgbm   0.356471   0.336151  0.426658\n",
       "lr     0.321154   0.313570  0.440663\n",
       "rf     0.355295   0.478201  0.325681\n",
       "xgb    0.380359   0.396003  0.369931"
      ]
     },
     "execution_count": 70,
     "metadata": {},
     "output_type": "execute_result"
    }
   ],
   "source": [
    "kf_smy = pd.DataFrame(results_cn2.reset_index().set_index(['model','index'])[[f'fold{i}' for i in range(4)]].mean(axis=1))\n",
    "kf_smy2 = pd.pivot_table(kf_smy,index='model', columns='index')\n",
    "kf_smy2.columns = [f[1] for f in kf_smy2.columns]\n",
    "kf_smy2"
   ]
  },
  {
   "cell_type": "markdown",
   "id": "4445c372",
   "metadata": {},
   "source": [
    "From the results we can observe that xgb gave best result"
   ]
  },
  {
   "cell_type": "markdown",
   "id": "944bcc81",
   "metadata": {},
   "source": [
    "## Trying different oversampling techinques"
   ]
  },
  {
   "cell_type": "code",
   "execution_count": 110,
   "id": "83c587f9",
   "metadata": {},
   "outputs": [
    {
     "data": {
      "text/html": [
       "<div>\n",
       "<style scoped>\n",
       "    .dataframe tbody tr th:only-of-type {\n",
       "        vertical-align: middle;\n",
       "    }\n",
       "\n",
       "    .dataframe tbody tr th {\n",
       "        vertical-align: top;\n",
       "    }\n",
       "\n",
       "    .dataframe thead th {\n",
       "        text-align: right;\n",
       "    }\n",
       "</style>\n",
       "<table border=\"1\" class=\"dataframe\">\n",
       "  <thead>\n",
       "    <tr style=\"text-align: right;\">\n",
       "      <th></th>\n",
       "      <th>fold0</th>\n",
       "      <th>fold1</th>\n",
       "      <th>fold2</th>\n",
       "      <th>fold3</th>\n",
       "      <th>fold4</th>\n",
       "    </tr>\n",
       "  </thead>\n",
       "  <tbody>\n",
       "    <tr>\n",
       "      <th>precision</th>\n",
       "      <td>0.379221</td>\n",
       "      <td>0.374306</td>\n",
       "      <td>0.375596</td>\n",
       "      <td>0.370807</td>\n",
       "      <td>0.374179</td>\n",
       "    </tr>\n",
       "    <tr>\n",
       "      <th>recall</th>\n",
       "      <td>0.371613</td>\n",
       "      <td>0.367227</td>\n",
       "      <td>0.379735</td>\n",
       "      <td>0.364986</td>\n",
       "      <td>0.368289</td>\n",
       "    </tr>\n",
       "    <tr>\n",
       "      <th>f1</th>\n",
       "      <td>0.372123</td>\n",
       "      <td>0.368819</td>\n",
       "      <td>0.373817</td>\n",
       "      <td>0.364762</td>\n",
       "      <td>0.368308</td>\n",
       "    </tr>\n",
       "  </tbody>\n",
       "</table>\n",
       "</div>"
      ],
      "text/plain": [
       "              fold0     fold1     fold2     fold3     fold4\n",
       "precision  0.379221  0.374306  0.375596  0.370807  0.374179\n",
       "recall     0.371613  0.367227  0.379735  0.364986  0.368289\n",
       "f1         0.372123  0.368819  0.373817  0.364762  0.368308"
      ]
     },
     "execution_count": 110,
     "metadata": {},
     "output_type": "execute_result"
    }
   ],
   "source": [
    "# create the pipeline\n",
    "pipe = Pipeline([\n",
    "            ('over',  ADASYN(sampling_strategy='auto')),\n",
    "            ('under', RandomUnderSampler(sampling_strategy= {0: 5000, 1: 5000, 2:10000, 3:20000,4:30000})),\n",
    "            ('model', XGBClassifier(random_state=0))\n",
    "        ])\n",
    "\n",
    "results = {}\n",
    "\n",
    "# iterate through folds\n",
    "for i in sorted(train['fold'].unique()):\n",
    "\n",
    "    train['review_rating1'] = train['review_rating']-1\n",
    "\n",
    "    val = train[train['fold']==i]\n",
    "    n_train = train[train['fold']!=i]\n",
    "\n",
    "    # assign x and y\n",
    "    x_train = np.concatenate(n_train['vector'].apply(lambda x: x.reshape(1,-1)).values)\n",
    "    x_val = np.concatenate(val['vector'].apply(lambda x: x.reshape(1,-1)).values)\n",
    "    y_train = n_train['review_rating1'].values\n",
    "    y_val = val['review_rating1'].values\n",
    "\n",
    "    pipe.fit(x_train, y_train)\n",
    "    pred = pipe.predict(x_val)\n",
    "    # validate predictions\n",
    "    precision, recall, f1 = evaluate_model(y_val, pred)\n",
    "    results[f'fold{int(i)}'] = {'precision':precision,'recall':recall, 'f1':f1}\n",
    "  \n",
    "pd.DataFrame(results)"
   ]
  },
  {
   "cell_type": "code",
   "execution_count": 132,
   "id": "3fbbdc8c",
   "metadata": {},
   "outputs": [
    {
     "name": "stderr",
     "output_type": "stream",
     "text": [
      "/Users/sarathyashu/opt/anaconda3/lib/python3.9/site-packages/imblearn/utils/_validation.py:313: UserWarning: After over-sampling, the number of samples (60500) in class 4 will be larger than the number of samples in the majority class (class #4.0 -> 60342)\n",
      "  warnings.warn(\n",
      "/Users/sarathyashu/opt/anaconda3/lib/python3.9/site-packages/imblearn/utils/_validation.py:313: UserWarning: After over-sampling, the number of samples (60500) in class 4 will be larger than the number of samples in the majority class (class #4.0 -> 60343)\n",
      "  warnings.warn(\n",
      "/Users/sarathyashu/opt/anaconda3/lib/python3.9/site-packages/imblearn/utils/_validation.py:313: UserWarning: After over-sampling, the number of samples (60500) in class 4 will be larger than the number of samples in the majority class (class #4.0 -> 60343)\n",
      "  warnings.warn(\n",
      "/Users/sarathyashu/opt/anaconda3/lib/python3.9/site-packages/imblearn/utils/_validation.py:313: UserWarning: After over-sampling, the number of samples (60500) in class 4 will be larger than the number of samples in the majority class (class #4.0 -> 60342)\n",
      "  warnings.warn(\n",
      "/Users/sarathyashu/opt/anaconda3/lib/python3.9/site-packages/imblearn/utils/_validation.py:313: UserWarning: After over-sampling, the number of samples (60500) in class 4 will be larger than the number of samples in the majority class (class #4.0 -> 60342)\n",
      "  warnings.warn(\n"
     ]
    },
    {
     "data": {
      "text/html": [
       "<div>\n",
       "<style scoped>\n",
       "    .dataframe tbody tr th:only-of-type {\n",
       "        vertical-align: middle;\n",
       "    }\n",
       "\n",
       "    .dataframe tbody tr th {\n",
       "        vertical-align: top;\n",
       "    }\n",
       "\n",
       "    .dataframe thead th {\n",
       "        text-align: right;\n",
       "    }\n",
       "</style>\n",
       "<table border=\"1\" class=\"dataframe\">\n",
       "  <thead>\n",
       "    <tr style=\"text-align: right;\">\n",
       "      <th></th>\n",
       "      <th>fold0</th>\n",
       "      <th>fold1</th>\n",
       "      <th>fold2</th>\n",
       "      <th>fold3</th>\n",
       "      <th>fold4</th>\n",
       "    </tr>\n",
       "  </thead>\n",
       "  <tbody>\n",
       "    <tr>\n",
       "      <th>precision</th>\n",
       "      <td>0.390018</td>\n",
       "      <td>0.382394</td>\n",
       "      <td>0.396389</td>\n",
       "      <td>0.384144</td>\n",
       "      <td>0.391735</td>\n",
       "    </tr>\n",
       "    <tr>\n",
       "      <th>recall</th>\n",
       "      <td>0.391680</td>\n",
       "      <td>0.379913</td>\n",
       "      <td>0.400868</td>\n",
       "      <td>0.383830</td>\n",
       "      <td>0.387212</td>\n",
       "    </tr>\n",
       "    <tr>\n",
       "      <th>f1</th>\n",
       "      <td>0.389180</td>\n",
       "      <td>0.380316</td>\n",
       "      <td>0.397174</td>\n",
       "      <td>0.382617</td>\n",
       "      <td>0.388661</td>\n",
       "    </tr>\n",
       "  </tbody>\n",
       "</table>\n",
       "</div>"
      ],
      "text/plain": [
       "              fold0     fold1     fold2     fold3     fold4\n",
       "precision  0.390018  0.382394  0.396389  0.384144  0.391735\n",
       "recall     0.391680  0.379913  0.400868  0.383830  0.387212\n",
       "f1         0.389180  0.380316  0.397174  0.382617  0.388661"
      ]
     },
     "execution_count": 132,
     "metadata": {},
     "output_type": "execute_result"
    }
   ],
   "source": [
    "# create the pipeline\n",
    "pipe = Pipeline([\n",
    "            ('over',  SMOTE(sampling_strategy={0:5000,1:5000,2:10000,3:30000,4:60500})),\n",
    "            ('under', RandomUnderSampler(sampling_strategy= {0: 5000, 1: 5000, 2:10000, 3:20000,4:30000})),\n",
    "            ('model', XGBClassifier(random_state=0))\n",
    "        ])\n",
    "\n",
    "results = {}\n",
    "\n",
    "# iterate through folds\n",
    "for i in sorted(train['fold'].unique()):\n",
    "\n",
    "    train['review_rating1'] = train['review_rating']-1\n",
    "\n",
    "    val = train[train['fold']==i]\n",
    "    n_train = train[train['fold']!=i]\n",
    "\n",
    "    # assign x and y\n",
    "    x_train = np.concatenate(n_train['vector'].apply(lambda x: x.reshape(1,-1)).values)\n",
    "    x_val = np.concatenate(val['vector'].apply(lambda x: x.reshape(1,-1)).values)\n",
    "\n",
    "    y_train = n_train['review_rating1'].values\n",
    "    y_val = val['review_rating1'].values\n",
    "\n",
    "    pipe.fit(x_train, y_train)\n",
    "    pred = pipe.predict(x_val)\n",
    "    # validate predictions\n",
    "    precision, recall, f1 = evaluate_model(y_val, pred)\n",
    "    results[f'fold{int(i)}'] = {'precision':precision,'recall':recall, 'f1':f1}\n",
    "  \n",
    "pd.DataFrame(results)"
   ]
  },
  {
   "cell_type": "markdown",
   "id": "29d8e94c",
   "metadata": {},
   "source": [
    "From the results we can observe smote improved the f1 score marginally on mean kfold f1 score"
   ]
  },
  {
   "cell_type": "markdown",
   "id": "b366c94e",
   "metadata": {},
   "source": [
    "# Hyperparameter tunning of xgboost"
   ]
  },
  {
   "cell_type": "code",
   "execution_count": 133,
   "id": "32d09dbe",
   "metadata": {},
   "outputs": [],
   "source": [
    "# import packages for hyperparameters tuning\n",
    "\n",
    "\n",
    "space={\n",
    "    'max_depth': hp.quniform(\"max_depth\", 3, 18, 1),\n",
    "        'gamma': hp.uniform ('gamma', 1,9),\n",
    "        'reg_alpha' : hp.uniform('reg_alpha', 50,180,),\n",
    "        'reg_lambda' : hp.uniform('reg_lambda', 0,1),\n",
    "        'colsample_bytree' : hp.uniform('colsample_bytree', 0.5,1),\n",
    "        'min_child_weight' : hp.quniform('min_child_weight', 0, 10, 1),\n",
    "        'n_estimators': hp.quniform(\"n_estimators\", 100, 2500,50),\n",
    "        'seed': 0\n",
    "    }\n"
   ]
  },
  {
   "cell_type": "code",
   "execution_count": 179,
   "id": "0359bcbb",
   "metadata": {},
   "outputs": [],
   "source": [
    "x_train = np.concatenate(train['vector'].apply(lambda x: x.reshape(1,-1)).values)\n",
    "x_test = np.concatenate(test['vector'].apply(lambda x: x.reshape(1,-1)).values)\n",
    "x_unseen = np.concatenate(unseen['vector'].apply(lambda x: x.reshape(1,-1)).values)\n",
    "\n",
    "y_train = (train['review_rating']-1).values\n",
    "y_test = (test['review_rating']-1).values\n",
    "y_unseen = (unseen['review_rating']-1).values\n",
    "\n"
   ]
  },
  {
   "cell_type": "code",
   "execution_count": 142,
   "id": "88c78225",
   "metadata": {},
   "outputs": [],
   "source": [
    "def objective(space):\n",
    "    \n",
    "    clf = xgb.XGBClassifier(\n",
    "                    n_estimators =int(space['n_estimators']), \n",
    "                    max_depth = int(space['max_depth']), \n",
    "                    gamma = space['gamma'],\n",
    "                    reg_alpha = int(space['reg_alpha']),\n",
    "                    min_child_weight=int(space['min_child_weight']),\n",
    "                    colsample_bytree=int(space['colsample_bytree']))\n",
    "    \n",
    "    \n",
    "    cw = Counter(y_train)\n",
    "    pipe = Pipeline([\n",
    "            ('over',  SMOTE(sampling_strategy={0:5000,1:5000,2:cw[2.0],3:cw[3.0],4:cw[4.0]})),\n",
    "            ('under', RandomUnderSampler(sampling_strategy= {0: 5000, 1: 5000, 2:10000, 3:20000,4:30000})),\n",
    "            ('model', clf)\n",
    "        ])\n",
    "    \n",
    "\n",
    "    \n",
    "    pipe.fit(x_train, y_train)    \n",
    "\n",
    "    pred = pipe.predict(x_test)\n",
    "    f1 = f1_score(y_test, pred, average='macro')\n",
    "    print (\"SCORE:\", f1)\n",
    "    return {'loss': -f1, 'status': STATUS_OK }"
   ]
  },
  {
   "cell_type": "code",
   "execution_count": 143,
   "id": "5e95e75d",
   "metadata": {},
   "outputs": [
    {
     "name": "stdout",
     "output_type": "stream",
     "text": [
      "SCORE:                                                                          \n",
      "0.30798979637739954                                                             \n",
      "SCORE:                                                                          \n",
      "0.3235681530135893                                                              \n",
      "SCORE:                                                                          \n",
      "0.31994754814209597                                                             \n",
      "SCORE:                                                                          \n",
      "0.3220923318492607                                                              \n",
      "SCORE:                                                                          \n",
      "0.3266006752333704                                                              \n",
      "SCORE:                                                                          \n",
      "0.3244456402652352                                                              \n",
      "SCORE:                                                                          \n",
      "0.3468339274066806                                                              \n",
      "SCORE:                                                                          \n",
      "0.34086656710099383                                                             \n",
      "SCORE:                                                                          \n",
      "0.2918363287006768                                                              \n",
      "SCORE:                                                                          \n",
      "0.3477944969689518                                                              \n",
      "SCORE:                                                                          \n",
      "0.3218053897766263                                                              \n",
      "SCORE:                                                                          \n",
      "0.3195397342277091                                                              \n",
      "SCORE:                                                                          \n",
      "0.33610764285092654                                                             \n",
      "SCORE:                                                                          \n",
      "0.33749092273773224                                                             \n",
      "SCORE:                                                                          \n",
      "0.34571499461992483                                                             \n",
      "SCORE:                                                                          \n",
      "0.3328101130582978                                                              \n",
      "SCORE:                                                                          \n",
      "0.31570777710687536                                                             \n",
      "SCORE:                                                                          \n",
      "0.32609702159164905                                                             \n",
      "SCORE:                                                                          \n",
      "0.34277207465166215                                                             \n",
      "SCORE:                                                                          \n",
      "0.307176179271386                                                               \n",
      "SCORE:                                                                          \n",
      "0.3382130132473929                                                              \n",
      "SCORE:                                                                          \n",
      "0.34785775811744124                                                             \n",
      "SCORE:                                                                          \n",
      "0.34881916246956135                                                             \n",
      "SCORE:                                                                          \n",
      "0.3474796352486682                                                              \n",
      "SCORE:                                                                          \n",
      "0.3454867899545511                                                              \n",
      "100%|███████| 25/25 [17:52<00:00, 42.91s/trial, best loss: -0.34881916246956135]\n"
     ]
    }
   ],
   "source": [
    "trials = Trials()\n",
    "\n",
    "best_hyperparams = fmin(fn = objective,\n",
    "                        space = space,\n",
    "                        algo = tpe.suggest,\n",
    "                        max_evals = 25,\n",
    "                        trials = trials)"
   ]
  },
  {
   "cell_type": "code",
   "execution_count": 144,
   "id": "3eae126e",
   "metadata": {},
   "outputs": [
    {
     "name": "stdout",
     "output_type": "stream",
     "text": [
      "The best hyperparameters are :  \n",
      "\n",
      "{'colsample_bytree': 0.5683835009650924, 'gamma': 1.3696648183828148, 'max_depth': 7.0, 'min_child_weight': 5.0, 'n_estimators': 2200.0, 'reg_alpha': 91.57416479897962, 'reg_lambda': 0.3827218265196251}\n"
     ]
    }
   ],
   "source": [
    "print(\"The best hyperparameters are : \",\"\\n\")\n",
    "print(best_hyperparams)"
   ]
  },
  {
   "cell_type": "markdown",
   "id": "e4a9938a",
   "metadata": {},
   "source": [
    "# Final Model Performance"
   ]
  },
  {
   "cell_type": "code",
   "execution_count": 146,
   "id": "3b292ba3",
   "metadata": {},
   "outputs": [],
   "source": [
    "cw = Counter(y_train)\n",
    "pipe = Pipeline([\n",
    "        ('over',  SMOTE(sampling_strategy={0:5000,1:5000,2:cw[2.0],3:cw[3.0],4:cw[4.0]})),\n",
    "        ('under', RandomUnderSampler(sampling_strategy= {0: 5000, 1: 5000, 2:10000, 3:20000,4:30000})),\n",
    "        ('model', XGBClassifier(random_state=0))\n",
    "    ])\n",
    "\n",
    "\n",
    "\n",
    "pipe.fit(x_train, y_train)    \n",
    "\n",
    "pred = pipe.predict(x_test)\n",
    "unseen_pred = pipe.predict(x_unseen)\n",
    "f1 = f1_score(y_test, pred, average='macro')"
   ]
  },
  {
   "cell_type": "code",
   "execution_count": 159,
   "id": "fa5637d7",
   "metadata": {},
   "outputs": [
    {
     "data": {
      "text/plain": [
       "39142"
      ]
     },
     "execution_count": 159,
     "metadata": {},
     "output_type": "execute_result"
    }
   ],
   "source": [
    "unseen_pred = pipe.predict(x_unseen)"
   ]
  },
  {
   "cell_type": "code",
   "execution_count": 168,
   "id": "8898bed5",
   "metadata": {},
   "outputs": [
    {
     "name": "stdout",
     "output_type": "stream",
     "text": [
      "              precision    recall  f1-score   support\n",
      "\n",
      "         0.0       0.27      0.37      0.31       322\n",
      "         1.0       0.22      0.21      0.22       559\n",
      "         2.0       0.34      0.30      0.32      2624\n",
      "         3.0       0.43      0.40      0.41      8951\n",
      "         4.0       0.73      0.77      0.75     18857\n",
      "\n",
      "    accuracy                           0.61     31313\n",
      "   macro avg       0.40      0.41      0.40     31313\n",
      "weighted avg       0.60      0.61      0.61     31313\n",
      "\n"
     ]
    },
    {
     "name": "stderr",
     "output_type": "stream",
     "text": [
      "/Users/sarathyashu/opt/anaconda3/lib/python3.9/site-packages/sklearn/utils/deprecation.py:87: FutureWarning: Function plot_confusion_matrix is deprecated; Function `plot_confusion_matrix` is deprecated in 1.0 and will be removed in 1.2. Use one of the class methods: ConfusionMatrixDisplay.from_predictions or ConfusionMatrixDisplay.from_estimator.\n",
      "  warnings.warn(msg, category=FutureWarning)\n"
     ]
    },
    {
     "data": {
      "image/png": "[encoded data removed]",
      "text/plain": [
       "<Figure size 640x480 with 2 Axes>"
      ]
     },
     "metadata": {},
     "output_type": "display_data"
    }
   ],
   "source": [
    "def validate_model(x_test, y_test, val_pred, model):\n",
    "    print(classification_report(y_test,val_pred))\n",
    "    plot_confusion_matrix(model, x_test, y_test, cmap=plt.cm.Blues)\n",
    "    plt.show()\n",
    "    \n",
    "validate_model(x_test, y_test, pred, pipe)\n",
    "\n"
   ]
  },
  {
   "cell_type": "code",
   "execution_count": 169,
   "id": "7c53f2bb",
   "metadata": {},
   "outputs": [
    {
     "name": "stdout",
     "output_type": "stream",
     "text": [
      "              precision    recall  f1-score   support\n",
      "\n",
      "         0.0       0.26      0.36      0.30       403\n",
      "         1.0       0.19      0.17      0.18       699\n",
      "         2.0       0.34      0.31      0.33      3279\n",
      "         3.0       0.43      0.39      0.41     11189\n",
      "         4.0       0.74      0.78      0.76     23572\n",
      "\n",
      "    accuracy                           0.61     39142\n",
      "   macro avg       0.39      0.40      0.39     39142\n",
      "weighted avg       0.60      0.61      0.60     39142\n",
      "\n"
     ]
    },
    {
     "name": "stderr",
     "output_type": "stream",
     "text": [
      "/Users/sarathyashu/opt/anaconda3/lib/python3.9/site-packages/sklearn/utils/deprecation.py:87: FutureWarning: Function plot_confusion_matrix is deprecated; Function `plot_confusion_matrix` is deprecated in 1.0 and will be removed in 1.2. Use one of the class methods: ConfusionMatrixDisplay.from_predictions or ConfusionMatrixDisplay.from_estimator.\n",
      "  warnings.warn(msg, category=FutureWarning)\n"
     ]
    },
    {
     "data": {
      "image/png": "[encoded data removed]",
      "text/plain": [
       "<Figure size 640x480 with 2 Axes>"
      ]
     },
     "metadata": {},
     "output_type": "display_data"
    }
   ],
   "source": [
    "validate_model(x_unseen, y_unseen, unseen_pred, pipe)"
   ]
  },
  {
   "cell_type": "code",
   "execution_count": 173,
   "id": "6994c189",
   "metadata": {},
   "outputs": [],
   "source": [
    "train_pred = pipe.predict_proba(x_train)\n",
    "test_pred = pipe.predict_proba(x_test)\n",
    "unseen_pred = pipe.predict_proba(x_unseen)\n"
   ]
  },
  {
   "cell_type": "code",
   "execution_count": 181,
   "id": "314e2efb",
   "metadata": {},
   "outputs": [],
   "source": [
    "train_pred_df = pd.DataFrame(train_pred, columns=[f'Predict_{f}' for f in range(1,6)])\n",
    "test_pred_df = pd.DataFrame(test_pred, columns=[f'Predict_{f}' for f in range(1,6)])\n",
    "unseen_pred_df = pd.DataFrame(unseen_pred, columns=[f'Predict_{f}' for f in range(1,6)])"
   ]
  },
  {
   "cell_type": "code",
   "execution_count": 184,
   "id": "89f85c0b",
   "metadata": {},
   "outputs": [],
   "source": [
    "train1 = pd.merge(train, train_pred_df, left_index=True, right_index=True)\n",
    "test1 = pd.merge(test, test_pred_df, left_index=True, right_index=True)\n",
    "unseen1 = pd.merge(unseen, unseen_pred_df, left_index=True, right_index=True)"
   ]
  },
  {
   "cell_type": "code",
   "execution_count": 185,
   "id": "0c2c7b59",
   "metadata": {},
   "outputs": [],
   "source": [
    "to_sav = pd.concat([train1, test1, unseen1], axis=0)\n",
    "to_sav.to_csv('vector2.csv',index=False)"
   ]
  },
  {
   "cell_type": "code",
   "execution_count": null,
   "id": "c773f798",
   "metadata": {},
   "outputs": [],
   "source": []
  }
 ],
 "metadata": {
  "kernelspec": {
   "display_name": "Python 3 (ipykernel)",
   "language": "python",
   "name": "python3"
  },
  "language_info": {
   "codemirror_mode": {
    "name": "ipython",
    "version": 3
   },
   "file_extension": ".py",
   "mimetype": "text/x-python",
   "name": "python",
   "nbconvert_exporter": "python",
   "pygments_lexer": "ipython3",
   "version": "3.9.13"
  }
 },
 "nbformat": 4,
 "nbformat_minor": 5
}
