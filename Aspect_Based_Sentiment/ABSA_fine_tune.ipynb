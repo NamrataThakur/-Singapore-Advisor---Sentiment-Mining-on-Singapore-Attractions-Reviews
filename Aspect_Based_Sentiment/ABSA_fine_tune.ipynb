{
 "cells": [
  {
   "cell_type": "markdown",
   "metadata": {
    "id": "YJ1wS7B8TPyH"
   },
   "source": [
    "https://skimai.com/fine-tuning-bert-for-sentiment-analysis/"
   ]
  },
  {
   "cell_type": "markdown",
   "metadata": {
    "id": "9jVYFlOFBlpw"
   },
   "source": [
    "# Import Libraries"
   ]
  },
  {
   "cell_type": "code",
   "execution_count": 1,
   "metadata": {
    "executionInfo": {
     "elapsed": 699,
     "status": "ok",
     "timestamp": 1684400663624,
     "user": {
      "displayName": "Hui OUYANG",
      "userId": "00425198284664068842"
     },
     "user_tz": -480
    },
    "id": "yJG_cZzKA6o5"
   },
   "outputs": [],
   "source": [
    "import os\n",
    "import re\n",
    "from tqdm import tqdm\n",
    "import numpy as np\n",
    "import pandas as pd\n",
    "import matplotlib.pyplot as plt"
   ]
  },
  {
   "cell_type": "code",
   "execution_count": 2,
   "metadata": {
    "colab": {
     "base_uri": "https://localhost:8080/"
    },
    "executionInfo": {
     "elapsed": 4398,
     "status": "ok",
     "timestamp": 1684400689076,
     "user": {
      "displayName": "Hui OUYANG",
      "userId": "00425198284664068842"
     },
     "user_tz": -480
    },
    "id": "DawUO3AjTtJh",
    "outputId": "2e83e2a9-0b1d-4997-c0be-6b78d40f95ba"
   },
   "outputs": [
    {
     "name": "stdout",
     "output_type": "stream",
     "text": [
      "There are 1 GPU(s) available.\n",
      "Device name: NVIDIA GeForce RTX 3080 Laptop GPU\n"
     ]
    }
   ],
   "source": [
    "import torch\n",
    "\n",
    "if torch.cuda.is_available():       \n",
    "    device = torch.device(\"cuda\")\n",
    "    print(f'There are {torch.cuda.device_count()} GPU(s) available.')\n",
    "    print('Device name:', torch.cuda.get_device_name(0))\n",
    "\n",
    "else:\n",
    "    print('No GPU available, using the CPU instead.')\n",
    "    device = torch.device(\"cpu\")"
   ]
  },
  {
   "cell_type": "markdown",
   "metadata": {
    "id": "YATHk1FLBrc7"
   },
   "source": [
    "# Load Data"
   ]
  },
  {
   "cell_type": "code",
   "execution_count": 3,
   "metadata": {
    "colab": {
     "base_uri": "https://localhost:8080/"
    },
    "executionInfo": {
     "elapsed": 495,
     "status": "ok",
     "timestamp": 1684400691711,
     "user": {
      "displayName": "Hui OUYANG",
      "userId": "00425198284664068842"
     },
     "user_tz": -480
    },
    "id": "wuNe-ZD8GZ3s",
    "outputId": "d28a899a-baf5-4e18-9516-81ffdea47de9"
   },
   "outputs": [
    {
     "name": "stdout",
     "output_type": "stream",
     "text": [
      "Number of amusements: 20\n"
     ]
    },
    {
     "data": {
      "text/plain": [
       "0                               Arab Street\n",
       "1      Buddha Tooth Relic Temple and Museum\n",
       "2                               Clarke Quay\n",
       "3                        Gardens by the Bay\n",
       "4                          Jurong Bird Park\n",
       "5     ArtScience Museum at Marina Bay Sands\n",
       "6                       Maxwell Food Centre\n",
       "7                              Merlion Park\n",
       "8                            Mustafa Centre\n",
       "9              National Museum of Singapore\n",
       "10                   National Orchid Garden\n",
       "11                             Night Safari\n",
       "12                             Orchard Road\n",
       "13                            River Wonders\n",
       "14           Sands Skypark Observation Deck\n",
       "15                          Singapore Flyer\n",
       "16                          Singapore River\n",
       "17                            Singapore Zoo\n",
       "18                Singapore Botanic Gardens\n",
       "19        Singapore Mass Rapid Transit SMRT\n",
       "Name: Place, dtype: object"
      ]
     },
     "execution_count": 3,
     "metadata": {},
     "output_type": "execute_result"
    }
   ],
   "source": [
    "# load all places\n",
    "amusements = pd.read_excel('./20_places.xlsx')['Place']\n",
    "\n",
    "print(f\"Number of amusements: {len(amusements)}\")\n",
    "amusements"
   ]
  },
  {
   "cell_type": "code",
   "execution_count": 4,
   "metadata": {
    "executionInfo": {
     "elapsed": 5685,
     "status": "ok",
     "timestamp": 1684403125928,
     "user": {
      "displayName": "Hui OUYANG",
      "userId": "00425198284664068842"
     },
     "user_tz": -480
    },
    "id": "TRZd0POaBXVH"
   },
   "outputs": [],
   "source": [
    "# Load data and set labels\n",
    "\n",
    "data_df = pd.DataFrame()\n",
    "for amusement in amusements:\n",
    "    file = f'./SentenceTrainData/train-label-{amusement}.csv'\n",
    "    df = pd.read_csv(file)[['aspect', 'review_text', 'model_label', 'label']]\n",
    "    \n",
    "    data_df = pd.concat([data_df, df], ignore_index=True)\n",
    "\n",
    "data_df['aspect'] = [aspect.replace('\\'','').replace('[','').replace(']','') for aspect in data_df['aspect']]\n",
    "\n",
    "data_df['input'] = [ aspect + ' [SEP] ' + text for aspect, text in zip(data_df['aspect'], data_df['review_text']) ]"
   ]
  },
  {
   "cell_type": "code",
   "execution_count": 5,
   "metadata": {
    "colab": {
     "base_uri": "https://localhost:8080/",
     "height": 423
    },
    "executionInfo": {
     "elapsed": 664,
     "status": "ok",
     "timestamp": 1684403129457,
     "user": {
      "displayName": "Hui OUYANG",
      "userId": "00425198284664068842"
     },
     "user_tz": -480
    },
    "id": "X_VcI2KNLQZc",
    "outputId": "28cca916-6ea4-4f37-de4d-6db8ad66b20a"
   },
   "outputs": [
    {
     "data": {
      "text/html": [
       "<div>\n",
       "<style scoped>\n",
       "    .dataframe tbody tr th:only-of-type {\n",
       "        vertical-align: middle;\n",
       "    }\n",
       "\n",
       "    .dataframe tbody tr th {\n",
       "        vertical-align: top;\n",
       "    }\n",
       "\n",
       "    .dataframe thead th {\n",
       "        text-align: right;\n",
       "    }\n",
       "</style>\n",
       "<table border=\"1\" class=\"dataframe\">\n",
       "  <thead>\n",
       "    <tr style=\"text-align: right;\">\n",
       "      <th></th>\n",
       "      <th>aspect</th>\n",
       "      <th>review_text</th>\n",
       "      <th>model_label</th>\n",
       "      <th>label</th>\n",
       "      <th>input</th>\n",
       "    </tr>\n",
       "  </thead>\n",
       "  <tbody>\n",
       "    <tr>\n",
       "      <th>0</th>\n",
       "      <td>Culture &amp; Religion</td>\n",
       "      <td>If you are ready to get out of the malls of Or...</td>\n",
       "      <td>NaN</td>\n",
       "      <td>NEU</td>\n",
       "      <td>Culture &amp; Religion [SEP] If you are ready to g...</td>\n",
       "    </tr>\n",
       "    <tr>\n",
       "      <th>1</th>\n",
       "      <td>Culture &amp; Religion</td>\n",
       "      <td>I visited Arab Street on a Monday night in sea...</td>\n",
       "      <td>NEU</td>\n",
       "      <td>NEU</td>\n",
       "      <td>Culture &amp; Religion [SEP] I visited Arab Street...</td>\n",
       "    </tr>\n",
       "    <tr>\n",
       "      <th>2</th>\n",
       "      <td>Shopping</td>\n",
       "      <td>If you want to have Shisha</td>\n",
       "      <td>NEU</td>\n",
       "      <td>NEU</td>\n",
       "      <td>Shopping [SEP] If you want to have Shisha</td>\n",
       "    </tr>\n",
       "    <tr>\n",
       "      <th>3</th>\n",
       "      <td>Transportation &amp; Accessibility</td>\n",
       "      <td>Not far from the MRT station and about a 1km w...</td>\n",
       "      <td>NEU</td>\n",
       "      <td>NEU</td>\n",
       "      <td>Transportation &amp; Accessibility [SEP] Not far f...</td>\n",
       "    </tr>\n",
       "    <tr>\n",
       "      <th>4</th>\n",
       "      <td>Culture &amp; Religion</td>\n",
       "      <td>There are lots of specialty fabric stores and ...</td>\n",
       "      <td>POS</td>\n",
       "      <td>POS</td>\n",
       "      <td>Culture &amp; Religion [SEP] There are lots of spe...</td>\n",
       "    </tr>\n",
       "  </tbody>\n",
       "</table>\n",
       "</div>"
      ],
      "text/plain": [
       "                           aspect   \n",
       "0              Culture & Religion  \\\n",
       "1              Culture & Religion   \n",
       "2                        Shopping   \n",
       "3  Transportation & Accessibility   \n",
       "4              Culture & Religion   \n",
       "\n",
       "                                         review_text model_label label   \n",
       "0  If you are ready to get out of the malls of Or...         NaN   NEU  \\\n",
       "1  I visited Arab Street on a Monday night in sea...         NEU   NEU   \n",
       "2                         If you want to have Shisha         NEU   NEU   \n",
       "3  Not far from the MRT station and about a 1km w...         NEU   NEU   \n",
       "4  There are lots of specialty fabric stores and ...         POS   POS   \n",
       "\n",
       "                                               input  \n",
       "0  Culture & Religion [SEP] If you are ready to g...  \n",
       "1  Culture & Religion [SEP] I visited Arab Street...  \n",
       "2          Shopping [SEP] If you want to have Shisha  \n",
       "3  Transportation & Accessibility [SEP] Not far f...  \n",
       "4  Culture & Religion [SEP] There are lots of spe...  "
      ]
     },
     "execution_count": 5,
     "metadata": {},
     "output_type": "execute_result"
    }
   ],
   "source": [
    "data_df.head(5)"
   ]
  },
  {
   "cell_type": "code",
   "execution_count": 6,
   "metadata": {},
   "outputs": [],
   "source": [
    "from sklearn.model_selection import train_test_split\n",
    "from sklearn.preprocessing import LabelEncoder\n",
    "\n",
    "# Initialize the LabelEncoder\n",
    "encoder = LabelEncoder()\n",
    "\n",
    "X = data_df['input']\n",
    "y = data_df['label']\n",
    "\n",
    "# Fit the encoder and transform the labels\n",
    "y_encoded = encoder.fit_transform(y)\n",
    "\n",
    "data_df['label_encoded'] = y_encoded"
   ]
  },
  {
   "cell_type": "code",
   "execution_count": 7,
   "metadata": {},
   "outputs": [
    {
     "data": {
      "text/html": [
       "<div>\n",
       "<style scoped>\n",
       "    .dataframe tbody tr th:only-of-type {\n",
       "        vertical-align: middle;\n",
       "    }\n",
       "\n",
       "    .dataframe tbody tr th {\n",
       "        vertical-align: top;\n",
       "    }\n",
       "\n",
       "    .dataframe thead th {\n",
       "        text-align: right;\n",
       "    }\n",
       "</style>\n",
       "<table border=\"1\" class=\"dataframe\">\n",
       "  <thead>\n",
       "    <tr style=\"text-align: right;\">\n",
       "      <th></th>\n",
       "      <th>aspect</th>\n",
       "      <th>review_text</th>\n",
       "      <th>model_label</th>\n",
       "      <th>label</th>\n",
       "      <th>input</th>\n",
       "      <th>label_encoded</th>\n",
       "    </tr>\n",
       "  </thead>\n",
       "  <tbody>\n",
       "    <tr>\n",
       "      <th>491</th>\n",
       "      <td>Transportation &amp; Accessibility</td>\n",
       "      <td>The closest MRT station is Chinatown, or from ...</td>\n",
       "      <td>NEU</td>\n",
       "      <td>NEU</td>\n",
       "      <td>Transportation &amp; Accessibility [SEP] The close...</td>\n",
       "      <td>1</td>\n",
       "    </tr>\n",
       "    <tr>\n",
       "      <th>3553</th>\n",
       "      <td>Transportation &amp; Accessibility</td>\n",
       "      <td>Getting there is a bit of a hassle as it's not...</td>\n",
       "      <td>NEG</td>\n",
       "      <td>NEG</td>\n",
       "      <td>Transportation &amp; Accessibility [SEP] Getting t...</td>\n",
       "      <td>0</td>\n",
       "    </tr>\n",
       "    <tr>\n",
       "      <th>2855</th>\n",
       "      <td>History</td>\n",
       "      <td>one can choose his/her own path in the museum ...</td>\n",
       "      <td>NaN</td>\n",
       "      <td>POS</td>\n",
       "      <td>History [SEP] one can choose his/her own path ...</td>\n",
       "      <td>2</td>\n",
       "    </tr>\n",
       "    <tr>\n",
       "      <th>2059</th>\n",
       "      <td>Food Variety</td>\n",
       "      <td>Get to the Stall with the Biggest Q, that way ...</td>\n",
       "      <td>NaN</td>\n",
       "      <td>POS</td>\n",
       "      <td>Food Variety [SEP] Get to the Stall with the B...</td>\n",
       "      <td>2</td>\n",
       "    </tr>\n",
       "    <tr>\n",
       "      <th>4326</th>\n",
       "      <td>Facilities</td>\n",
       "      <td>If u want to go view u buy a ticket 30 SGD and...</td>\n",
       "      <td>NEU</td>\n",
       "      <td>NEU</td>\n",
       "      <td>Facilities [SEP] If u want to go view u buy a ...</td>\n",
       "      <td>1</td>\n",
       "    </tr>\n",
       "    <tr>\n",
       "      <th>5601</th>\n",
       "      <td>Biodiversity</td>\n",
       "      <td>This site was easily accessible by MRT with a ...</td>\n",
       "      <td>NEU</td>\n",
       "      <td>NEU</td>\n",
       "      <td>Biodiversity [SEP] This site was easily access...</td>\n",
       "      <td>1</td>\n",
       "    </tr>\n",
       "    <tr>\n",
       "      <th>5524</th>\n",
       "      <td>Events</td>\n",
       "      <td>The cafe near Halia was very disappointing and...</td>\n",
       "      <td>NEG</td>\n",
       "      <td>NEG</td>\n",
       "      <td>Events [SEP] The cafe near Halia was very disa...</td>\n",
       "      <td>0</td>\n",
       "    </tr>\n",
       "    <tr>\n",
       "      <th>3815</th>\n",
       "      <td>Budget Shopping &amp; Market</td>\n",
       "      <td>All the malls have excellent food halls with a...</td>\n",
       "      <td>POS</td>\n",
       "      <td>POS</td>\n",
       "      <td>Budget Shopping &amp; Market [SEP] All the malls h...</td>\n",
       "      <td>2</td>\n",
       "    </tr>\n",
       "    <tr>\n",
       "      <th>5477</th>\n",
       "      <td>Biodiversity</td>\n",
       "      <td>It was recently declared a Unesco World Herita...</td>\n",
       "      <td>NEU</td>\n",
       "      <td>NEU</td>\n",
       "      <td>Biodiversity [SEP] It was recently declared a ...</td>\n",
       "      <td>1</td>\n",
       "    </tr>\n",
       "    <tr>\n",
       "      <th>850</th>\n",
       "      <td>View</td>\n",
       "      <td>Unfortunately the blaring music and ear-splitt...</td>\n",
       "      <td>NEG</td>\n",
       "      <td>NEG</td>\n",
       "      <td>View [SEP] Unfortunately the blaring music and...</td>\n",
       "      <td>0</td>\n",
       "    </tr>\n",
       "  </tbody>\n",
       "</table>\n",
       "</div>"
      ],
      "text/plain": [
       "                              aspect   \n",
       "491   Transportation & Accessibility  \\\n",
       "3553  Transportation & Accessibility   \n",
       "2855                         History   \n",
       "2059                    Food Variety   \n",
       "4326                      Facilities   \n",
       "5601                    Biodiversity   \n",
       "5524                          Events   \n",
       "3815        Budget Shopping & Market   \n",
       "5477                    Biodiversity   \n",
       "850                             View   \n",
       "\n",
       "                                            review_text model_label label   \n",
       "491   The closest MRT station is Chinatown, or from ...         NEU   NEU  \\\n",
       "3553  Getting there is a bit of a hassle as it's not...         NEG   NEG   \n",
       "2855  one can choose his/her own path in the museum ...         NaN   POS   \n",
       "2059  Get to the Stall with the Biggest Q, that way ...         NaN   POS   \n",
       "4326  If u want to go view u buy a ticket 30 SGD and...         NEU   NEU   \n",
       "5601  This site was easily accessible by MRT with a ...         NEU   NEU   \n",
       "5524  The cafe near Halia was very disappointing and...         NEG   NEG   \n",
       "3815  All the malls have excellent food halls with a...         POS   POS   \n",
       "5477  It was recently declared a Unesco World Herita...         NEU   NEU   \n",
       "850   Unfortunately the blaring music and ear-splitt...         NEG   NEG   \n",
       "\n",
       "                                                  input  label_encoded  \n",
       "491   Transportation & Accessibility [SEP] The close...              1  \n",
       "3553  Transportation & Accessibility [SEP] Getting t...              0  \n",
       "2855  History [SEP] one can choose his/her own path ...              2  \n",
       "2059  Food Variety [SEP] Get to the Stall with the B...              2  \n",
       "4326  Facilities [SEP] If u want to go view u buy a ...              1  \n",
       "5601  Biodiversity [SEP] This site was easily access...              1  \n",
       "5524  Events [SEP] The cafe near Halia was very disa...              0  \n",
       "3815  Budget Shopping & Market [SEP] All the malls h...              2  \n",
       "5477  Biodiversity [SEP] It was recently declared a ...              1  \n",
       "850   View [SEP] Unfortunately the blaring music and...              0  "
      ]
     },
     "execution_count": 7,
     "metadata": {},
     "output_type": "execute_result"
    }
   ],
   "source": [
    "data_df.sample(10)"
   ]
  },
  {
   "cell_type": "code",
   "execution_count": 8,
   "metadata": {},
   "outputs": [
    {
     "data": {
      "image/png": "[encoded data removed]",
      "text/plain": [
       "<Figure size 640x480 with 1 Axes>"
      ]
     },
     "metadata": {},
     "output_type": "display_data"
    }
   ],
   "source": [
    "label_counts = data_df['label'].value_counts()\n",
    "\n",
    "# Extract the labels and their counts\n",
    "labels = label_counts.index\n",
    "counts = label_counts.values\n",
    "\n",
    "# Plot the bar chart\n",
    "plt.bar(labels, counts)\n",
    "\n",
    "# Set the chart title and axis labels\n",
    "plt.title('Label Distribution')\n",
    "plt.xlabel('Labels')\n",
    "plt.ylabel('Count')\n",
    "\n",
    "# Rotate x-axis labels if needed\n",
    "plt.xticks()\n",
    "\n",
    "# Display the chart\n",
    "plt.show()"
   ]
  },
  {
   "cell_type": "code",
   "execution_count": 9,
   "metadata": {},
   "outputs": [
    {
     "data": {
      "text/plain": [
       "Index(['POS', 'NEU', 'NEG'], dtype='object', name='label')"
      ]
     },
     "execution_count": 9,
     "metadata": {},
     "output_type": "execute_result"
    }
   ],
   "source": [
    "labels"
   ]
  },
  {
   "cell_type": "code",
   "execution_count": 10,
   "metadata": {},
   "outputs": [
    {
     "data": {
      "text/plain": [
       "array([2, 1, 0])"
      ]
     },
     "execution_count": 10,
     "metadata": {},
     "output_type": "execute_result"
    }
   ],
   "source": [
    "label_encoded = encoder.transform(['POS', 'NEU', 'NEG'])\n",
    "label_encoded"
   ]
  },
  {
   "cell_type": "code",
   "execution_count": 11,
   "metadata": {},
   "outputs": [
    {
     "data": {
      "text/plain": [
       "array(['POS', 'NEU', 'NEG'], dtype=object)"
      ]
     },
     "execution_count": 11,
     "metadata": {},
     "output_type": "execute_result"
    }
   ],
   "source": [
    "labels_decoded = encoder.inverse_transform([2, 1, 0])\n",
    "labels_decoded"
   ]
  },
  {
   "cell_type": "code",
   "execution_count": 12,
   "metadata": {},
   "outputs": [
    {
     "data": {
      "text/plain": [
       "array([3256, 2212,  532], dtype=int64)"
      ]
     },
     "execution_count": 12,
     "metadata": {},
     "output_type": "execute_result"
    }
   ],
   "source": [
    "counts"
   ]
  },
  {
   "cell_type": "code",
   "execution_count": 13,
   "metadata": {},
   "outputs": [
    {
     "data": {
      "text/plain": [
       "[0.7123029718982267, 0.17131337298818108, 0.11638365511359232]"
      ]
     },
     "execution_count": 13,
     "metadata": {},
     "output_type": "execute_result"
    }
   ],
   "source": [
    "# data is imbalanced adjust weights\n",
    "total_samples = len(data_df['label_encoded'])\n",
    "weights = []\n",
    "for i in range(len(counts)):\n",
    "    weights.append(total_samples/counts[label_encoded[i]])\n",
    "\n",
    "weights = [w/sum(weights) for w in weights]\n",
    "weights"
   ]
  },
  {
   "cell_type": "code",
   "execution_count": 14,
   "metadata": {
    "id": "R6tdSeBpLOBo"
   },
   "outputs": [
    {
     "name": "stdout",
     "output_type": "stream",
     "text": [
      "train, validation, test dataset size:\n",
      "(4800,) (4800,)\n",
      "(600,) (600,)\n",
      "(600,) (600,)\n"
     ]
    }
   ],
   "source": [
    "\n",
    "# Split train, val, test to be 80%, 10%, 10%\n",
    "\n",
    "# split the data in training and remaining dataset\n",
    "X_train, X_rem, y_train, y_rem = train_test_split(X, y_encoded, train_size=0.8)\n",
    "\n",
    "X_val, X_test, y_val, y_test = train_test_split(X_rem,y_rem, test_size=0.5)\n",
    "\n",
    "print('train, validation, test dataset size:')\n",
    "print(X_train.shape, y_train.shape)\n",
    "print(X_val.shape, y_val.shape)\n",
    "print(X_test.shape, y_test.shape)"
   ]
  },
  {
   "cell_type": "code",
   "execution_count": 15,
   "metadata": {},
   "outputs": [
    {
     "data": {
      "text/plain": [
       "array([2, 2, 2, ..., 1, 2, 2])"
      ]
     },
     "execution_count": 15,
     "metadata": {},
     "output_type": "execute_result"
    }
   ],
   "source": [
    "y_train"
   ]
  },
  {
   "cell_type": "code",
   "execution_count": 16,
   "metadata": {},
   "outputs": [
    {
     "name": "stdout",
     "output_type": "stream",
     "text": [
      "Distribution:\n",
      "Class 0: 432 9.00%\n",
      "Class 1: 1781 37.10%\n",
      "Class 2: 2587 53.90%\n"
     ]
    },
    {
     "data": {
      "text/plain": [
       "[0.7094467052731244, 0.17208364776978646, 0.1184696469570892]"
      ]
     },
     "execution_count": 16,
     "metadata": {},
     "output_type": "execute_result"
    }
   ],
   "source": [
    "labels = list(y_train)\n",
    "total_count = len(labels)\n",
    "weights = []\n",
    "# Calculate distribution\n",
    "\n",
    "print(\"Distribution:\")\n",
    "for i in range(len(set(labels))):\n",
    "    count = labels.count(i)\n",
    "    dist = count/total_count\n",
    "    weights.append(1/dist)\n",
    "    print(f\"Class {i}: {count} {dist*100:.2f}%\")\n",
    "\n",
    "# Calculate class weights\n",
    "weights = [w/sum(weights) for w in weights]\n",
    "weights"
   ]
  },
  {
   "cell_type": "code",
   "execution_count": 17,
   "metadata": {},
   "outputs": [],
   "source": [
    "# # Assuming y_train is a pandas DataFrame\n",
    "# train_data = pd.DataFrame(data = {\"input\":X_train, \"label\": y_train})\n",
    "\n",
    "# # Seperate each class' observations\n",
    "# pos_class = train_data[train_data['label'] == 2]\n",
    "# neu_class = train_data[train_data['label'] == 1]\n",
    "# neg_class = train_data[train_data['label'] == 0]\n",
    "\n",
    "# print(pos_class.shape, neu_class.shape, neg_class.shape)\n",
    "# # Downsample major classes\n",
    "# pos_downsampled = pos_class.sample(1000, replace=False, random_state=42)\n",
    "# neu_downsampled = neu_class.sample(1000, replace=False, random_state=42)\n",
    "\n",
    "# # Combine downsampled majority class with minority class\n",
    "# train_data_downsampled = pd.concat([pos_downsampled, neu_downsampled, neg_class])\n",
    "\n",
    "# # Separate X_train and y_train\n",
    "# X_train_downsampled = train_data_downsampled.drop(['label'], axis=1)\n",
    "# y_train_downsampled = train_data_downsampled['label']\n",
    "# print('train dataset size before downsampling:')\n",
    "# print(train_data.shape, y_train.shape)\n",
    "\n",
    "# print('train dataset size after downsampling:')\n",
    "# print(X_train_downsampled.shape, y_train_downsampled.shape)\n"
   ]
  },
  {
   "cell_type": "code",
   "execution_count": 18,
   "metadata": {},
   "outputs": [
    {
     "data": {
      "text/plain": [
       "0    NEU\n",
       "1    NEU\n",
       "2    NEU\n",
       "3    NEU\n",
       "4    POS\n",
       "5    POS\n",
       "6    NEU\n",
       "7    POS\n",
       "8    POS\n",
       "9    NEU\n",
       "Name: label, dtype: object"
      ]
     },
     "execution_count": 18,
     "metadata": {},
     "output_type": "execute_result"
    }
   ],
   "source": [
    "y[0:10]"
   ]
  },
  {
   "cell_type": "code",
   "execution_count": 19,
   "metadata": {},
   "outputs": [
    {
     "data": {
      "text/plain": [
       "array([1, 1, 1, 1, 2, 2, 1, 2, 2, 1])"
      ]
     },
     "execution_count": 19,
     "metadata": {},
     "output_type": "execute_result"
    }
   ],
   "source": [
    "y_encoded[0:10]"
   ]
  },
  {
   "cell_type": "code",
   "execution_count": 20,
   "metadata": {
    "id": "4PypYQ8RTqZo"
   },
   "outputs": [
    {
     "name": "stderr",
     "output_type": "stream",
     "text": [
      "[nltk_data] Downloading package stopwords to\n",
      "[nltk_data]     C:\\Users\\Ray\\AppData\\Roaming\\nltk_data...\n",
      "[nltk_data]   Package stopwords is already up-to-date!\n"
     ]
    }
   ],
   "source": [
    "import nltk\n",
    "# Uncomment to download \"stopwords\"\n",
    "nltk.download(\"stopwords\")\n",
    "from nltk.corpus import stopwords\n",
    "\n",
    "def text_preprocessing(s):\n",
    "    \"\"\"\n",
    "    - Lowercase the sentence\n",
    "    - Change \"'t\" to \"not\"\n",
    "    - Remove \"@name\"\n",
    "    - Isolate and remove punctuations except \"?\"\n",
    "    - Remove other special characters\n",
    "    - Remove stop words except \"not\" and \"can\"\n",
    "    - Remove trailing whitespace\n",
    "    \"\"\"\n",
    "    s = s.lower()\n",
    "    # Change 't to 'not'\n",
    "    s = re.sub(r\"\\'t\", \" not\", s)\n",
    "    # Remove @name\n",
    "    s = re.sub(r'(@.*?)[\\s]', ' ', s)\n",
    "    # Isolate and remove punctuations except '?'\n",
    "    s = re.sub(r'([\\'\\\"\\.\\(\\)\\!\\?\\\\\\/\\,])', r' \\1 ', s)\n",
    "    s = re.sub(r'[^\\w\\s\\?]', ' ', s)\n",
    "    # Remove some special characters\n",
    "    s = re.sub(r'([\\;\\:\\|•«\\n])', ' ', s)\n",
    "    # Remove stopwords except 'not' and 'can'\n",
    "    s = \" \".join([word for word in s.split()\n",
    "                  if word not in stopwords.words('english')\n",
    "                  or word in ['not', 'can']])\n",
    "    # Remove trailing whitespace\n",
    "    s = re.sub(r'\\s+', ' ', s).strip()\n",
    "    \n",
    "    return s"
   ]
  },
  {
   "cell_type": "code",
   "execution_count": 21,
   "metadata": {},
   "outputs": [],
   "source": [
    "# model_checkpoints = \"cardiffnlp/twitter-roberta-base-sentiment-latest\"\n",
    "model_checkpoints = 'bert-base-uncased'"
   ]
  },
  {
   "cell_type": "markdown",
   "metadata": {
    "id": "T0YvWg1q5OD-"
   },
   "source": [
    "# Tokenize Input"
   ]
  },
  {
   "cell_type": "code",
   "execution_count": 22,
   "metadata": {
    "id": "raub7KB70DN0"
   },
   "outputs": [],
   "source": [
    "from transformers import BertTokenizer\n",
    "\n",
    "# Load the BERT tokenizer\n",
    "tokenizer = BertTokenizer.from_pretrained(model_checkpoints, do_lower_case=True)\n",
    "\n",
    "# Create a function to tokenize a set of texts\n",
    "def preprocessing_for_bert(data):\n",
    "    \"\"\"Perform required preprocessing steps for pretrained BERT.\n",
    "    @param    data (np.array): Array of texts to be processed.\n",
    "    @return   input_ids (torch.Tensor): Tensor of token ids to be fed to a model.\n",
    "    @return   attention_masks (torch.Tensor): Tensor of indices specifying which\n",
    "                  tokens should be attended to by the model.\n",
    "    \"\"\"\n",
    "    # Create empty lists to store outputs\n",
    "    input_ids = []\n",
    "    attention_masks = []\n",
    "\n",
    "    # For every sentence...\n",
    "    for sent in data:\n",
    "        # `encode_plus` will:\n",
    "        #    (1) Tokenize the sentence\n",
    "        #    (2) Add the `[CLS]` and `[SEP]` token to the start and end\n",
    "        #    (3) Truncate/Pad sentence to max length\n",
    "        #    (4) Map tokens to their IDs\n",
    "        #    (5) Create attention mask\n",
    "        #    (6) Return a dictionary of outputs\n",
    "        encoded_sent = tokenizer.encode_plus(\n",
    "            text=text_preprocessing(sent),  # Preprocess sentence\n",
    "            add_special_tokens=True,        # Add `[CLS]` and `[SEP]`\n",
    "            max_length=MAX_LEN,                  # Max length to truncate/pad\n",
    "            padding='max_length',      # Pad sentence to max length\n",
    "            truncation=True,\n",
    "            #return_tensors='pt',           # Return PyTorch tensor\n",
    "            return_attention_mask=True      # Return attention mask\n",
    "            )\n",
    "        \n",
    "        # Add the outputs to the lists\n",
    "        input_ids.append(encoded_sent.get('input_ids'))\n",
    "        attention_masks.append(encoded_sent.get('attention_mask'))\n",
    "\n",
    "    # Convert lists to tensors\n",
    "    input_ids = torch.tensor(input_ids)\n",
    "    attention_masks = torch.tensor(attention_masks)\n",
    "\n",
    "    return input_ids, attention_masks"
   ]
  },
  {
   "cell_type": "code",
   "execution_count": 23,
   "metadata": {},
   "outputs": [
    {
     "name": "stdout",
     "output_type": "stream",
     "text": [
      "Max length:  133\n"
     ]
    }
   ],
   "source": [
    "# Encode our concatenated data\n",
    "encoded_sentences = [tokenizer.encode(sent, add_special_tokens=True) for sent in X]\n",
    "\n",
    "# Find the maximum length\n",
    "max_len = max([len(sent) for sent in encoded_sentences])\n",
    "print('Max length: ', max_len)"
   ]
  },
  {
   "cell_type": "code",
   "execution_count": 24,
   "metadata": {},
   "outputs": [
    {
     "name": "stdout",
     "output_type": "stream",
     "text": [
      "Original:  Culture & Religion [SEP] If you are ready to get out of the malls of Orchard Road then head to Arab Street where there are lots of old shop houses to marvel at and small shops selling hajibs, fabrics and souvenirs\n",
      "Token IDs:  [101, 3226, 4676, 19802, 3201, 2131, 25943, 15623, 2346, 2132, 5424, 2395, 7167, 2214, 4497, 3506, 8348, 2235, 7340, 4855, 28174, 5910, 25123, 2061, 27346, 18894, 102, 0, 0, 0, 0, 0, 0, 0, 0, 0, 0, 0, 0, 0, 0, 0, 0, 0, 0, 0, 0, 0, 0, 0, 0, 0, 0, 0, 0, 0, 0, 0, 0, 0, 0, 0, 0, 0, 0, 0, 0, 0, 0, 0, 0, 0, 0, 0, 0, 0, 0, 0, 0, 0, 0, 0, 0, 0, 0, 0, 0, 0, 0, 0, 0, 0, 0, 0, 0, 0, 0, 0, 0, 0, 0, 0, 0, 0, 0, 0, 0, 0, 0, 0, 0, 0, 0, 0, 0, 0, 0, 0, 0, 0, 0, 0, 0, 0, 0, 0, 0, 0]\n",
      "Tokenizing data...\n"
     ]
    }
   ],
   "source": [
    "# Specify `MAX_LEN`\n",
    "MAX_LEN = 128\n",
    "\n",
    "# Print sentence 0 and its encoded token ids\n",
    "token_ids = list(preprocessing_for_bert([X[0]])[0].squeeze().numpy())\n",
    "print('Original: ', X[0])\n",
    "print('Token IDs: ', token_ids)\n",
    "\n",
    "# Run function `preprocessing_for_bert` on the train set and the validation set\n",
    "print('Tokenizing data...')\n",
    "train_inputs, train_masks = preprocessing_for_bert(X_train)\n",
    "val_inputs, val_masks = preprocessing_for_bert(X_val)\n",
    "test_inputs, test_masks = preprocessing_for_bert(X_test)"
   ]
  },
  {
   "cell_type": "markdown",
   "metadata": {
    "id": "14cj8PCKFmJ7"
   },
   "source": [
    "# Data loader"
   ]
  },
  {
   "cell_type": "code",
   "execution_count": 50,
   "metadata": {
    "id": "7kb6SjWAFpHU"
   },
   "outputs": [],
   "source": [
    "from torch.utils.data import TensorDataset, DataLoader, RandomSampler, SequentialSampler\n",
    "\n",
    "# Convert other data types to torch.Tensor\n",
    "train_labels = torch.tensor(y_train)\n",
    "val_labels = torch.tensor(y_val)\n",
    "test_labels = torch.tensor(y_test)\n",
    "\n",
    "\n",
    "# For fine-tuning BERT, the authors recommend a batch size of 16 or 32.\n",
    "batch_size = 16\n",
    "\n",
    "# Create the DataLoader for our training set\n",
    "train_data = TensorDataset(train_inputs, train_masks, train_labels)\n",
    "train_sampler = RandomSampler(train_data)\n",
    "train_dataloader = DataLoader(train_data, sampler=train_sampler, batch_size=batch_size)\n",
    "\n",
    "# Create the DataLoader for our validation set\n",
    "val_data = TensorDataset(val_inputs, val_masks, val_labels)\n",
    "val_sampler = SequentialSampler(val_data)\n",
    "val_dataloader = DataLoader(val_data, sampler=val_sampler, batch_size=batch_size)\n",
    "\n",
    "# Create the DataLoader for our validation set\n",
    "test_data = TensorDataset(test_inputs, test_masks, test_labels)\n",
    "test_sampler = SequentialSampler(test_data)\n",
    "test_dataloader = DataLoader(test_data, sampler=test_sampler, batch_size=batch_size)\n"
   ]
  },
  {
   "cell_type": "markdown",
   "metadata": {
    "id": "RhadA-COy49v"
   },
   "source": [
    "# Train Model"
   ]
  },
  {
   "cell_type": "code",
   "execution_count": 26,
   "metadata": {
    "id": "n9oCmFpby-mc"
   },
   "outputs": [],
   "source": [
    "import torch\n",
    "import torch.nn as nn\n",
    "import torch.nn.functional as F\n",
    "from transformers import BertModel\n",
    "\n",
    "# Create the BertClassfier class\n",
    "class BertClassifier(nn.Module):\n",
    "    \"\"\"Bert Model for Classification Tasks.\n",
    "    \"\"\"\n",
    "    def __init__(self, custom_classifer, freeze_bert=False):\n",
    "        \"\"\"\n",
    "        @param    bert: a BertModel object\n",
    "        @param    classifier: a torch.nn.Module classifier\n",
    "        @param    freeze_bert (bool): Set `False` to fine-tune the BERT model\n",
    "        \"\"\"\n",
    "        super(BertClassifier, self).__init__()\n",
    "        # Specify hidden size of BERT, hidden size of our classifier, and number of labels\n",
    "        D_in, H, D_out = 768, 100, 3\n",
    "\n",
    "        # Instantiate BERT model\n",
    "        self.bert = BertModel.from_pretrained(model_checkpoints)\n",
    "\n",
    "        # Instantiate an one-layer feed-forward classifier\n",
    "        self.classifier = custom_classifer(D_in, H, D_out)\n",
    "\n",
    "        # Freeze the BERT model\n",
    "        if freeze_bert:\n",
    "            for param in self.bert.parameters():\n",
    "                param.requires_grad = False\n",
    "        \n",
    "    def forward(self, input_ids, attention_mask):\n",
    "        \"\"\"\n",
    "        Feed input to BERT and the classifier to compute logits.\n",
    "        @param    input_ids (torch.Tensor): an input tensor with shape (batch_size,\n",
    "                      max_length)\n",
    "        @param    attention_mask (torch.Tensor): a tensor that hold attention mask\n",
    "                      information with shape (batch_size, max_length)\n",
    "        @return   logits (torch.Tensor): an output tensor with shape (batch_size,\n",
    "                      num_labels)\n",
    "        \"\"\"\n",
    "        # Feed input to BERT\n",
    "        outputs = self.bert(input_ids=input_ids,\n",
    "                            attention_mask=attention_mask)\n",
    "        \n",
    "        # Extract the last hidden state of the token `[CLS]` for classification task\n",
    "#         last_hidden_state_cls = outputs[0][:, 0, :]\n",
    "        last_hidden_state = outputs[0]\n",
    "#         print(last_hidden_state_cls.shape)\n",
    "\n",
    "        pooled_output = last_hidden_state.mean(1)\n",
    "    \n",
    "        # Feed input to classifier to compute logits\n",
    "        logits = self.classifier(pooled_output)\n",
    "\n",
    "        return logits"
   ]
  },
  {
   "cell_type": "code",
   "execution_count": 27,
   "metadata": {
    "id": "oJ9c-cqUFwYx"
   },
   "outputs": [],
   "source": [
    "from transformers import AdamW, get_linear_schedule_with_warmup\n",
    "\n",
    "def initialize_model(custom_classifer, lr=5e-5, epochs=4):\n",
    "    \"\"\"Initialize the Bert Classifier, the optimizer and the learning rate scheduler.\n",
    "    \"\"\"\n",
    "    # Instantiate Bert Classifier\n",
    "    bert_classifier = BertClassifier(custom_classifer, freeze_bert=False)\n",
    "\n",
    "    # Tell PyTorch to run the model on GPU\n",
    "    bert_classifier.to(device)\n",
    "\n",
    "    # Create the optimizer\n",
    "    optimizer = AdamW(bert_classifier.parameters(),\n",
    "                      lr=lr,    \n",
    "                      eps=1e-8    # Default epsilon value\n",
    "                      )\n",
    "\n",
    "    # Total number of training steps\n",
    "    total_steps = len(train_dataloader) * epochs\n",
    "\n",
    "    # Set up the learning rate scheduler\n",
    "    scheduler = get_linear_schedule_with_warmup(optimizer,\n",
    "                                                num_warmup_steps=0, # Default value\n",
    "                                                num_training_steps=total_steps)\n",
    "    return bert_classifier, optimizer, scheduler"
   ]
  },
  {
   "cell_type": "code",
   "execution_count": 28,
   "metadata": {},
   "outputs": [],
   "source": [
    "class FocalLoss(nn.Module):\n",
    "    def __init__(self, alpha=0.25, gamma=2, reduction='mean'):\n",
    "        super().__init__()\n",
    "        self.alpha = alpha\n",
    "        self.gamma = gamma\n",
    "        self.reduction = reduction\n",
    "\n",
    "    def forward(self, inputs, targets):\n",
    "        CE_loss = F.cross_entropy(inputs, targets, reduction=self.reduction)\n",
    "        pt = torch.exp(-CE_loss)\n",
    "        F_loss = self.alpha * ((1-pt)**self.gamma) * CE_loss\n",
    "\n",
    "        if self.reduction == 'mean':\n",
    "            return F_loss.mean()\n",
    "        else:\n",
    "            return F_loss\n",
    "\n"
   ]
  },
  {
   "cell_type": "code",
   "execution_count": 29,
   "metadata": {},
   "outputs": [
    {
     "data": {
      "text/plain": [
       "[0.7094467052731244, 0.17208364776978646, 0.1184696469570892]"
      ]
     },
     "execution_count": 29,
     "metadata": {},
     "output_type": "execute_result"
    }
   ],
   "source": [
    "weights"
   ]
  },
  {
   "cell_type": "code",
   "execution_count": 30,
   "metadata": {},
   "outputs": [
    {
     "data": {
      "text/plain": [
       "device(type='cuda')"
      ]
     },
     "execution_count": 30,
     "metadata": {},
     "output_type": "execute_result"
    }
   ],
   "source": [
    "device"
   ]
  },
  {
   "cell_type": "code",
   "execution_count": 31,
   "metadata": {},
   "outputs": [
    {
     "name": "stderr",
     "output_type": "stream",
     "text": [
      "Using cache found in C:\\Users\\Ray/.cache\\torch\\hub\\adeelh_pytorch-multi-class-focal-loss_master\n"
     ]
    }
   ],
   "source": [
    "\n",
    "focal_loss = torch.hub.load(\n",
    "    'adeelh/pytorch-multi-class-focal-loss',\n",
    "    model='focal_loss',\n",
    "    alpha=weights,\n",
    "    gamma=2,\n",
    "    reduction='mean',\n",
    "    device='cuda',\n",
    "    dtype=torch.float32,\n",
    "    force_reload=False\n",
    ")\n"
   ]
  },
  {
   "cell_type": "code",
   "execution_count": 32,
   "metadata": {
    "id": "3X9EKrYsF2uF"
   },
   "outputs": [],
   "source": [
    "import random\n",
    "import time\n",
    "\n",
    "\n",
    "# Specify loss function\n",
    "# class_weights = torch.FloatTensor(weights).cuda()\n",
    "# loss_fn = nn.CrossEntropyLoss(weight=class_weights)\n",
    "# loss_fn = focal_loss\n",
    "loss_fn = FocalLoss()\n",
    "\n",
    "\n",
    "def set_seed(seed_value=42):\n",
    "    \"\"\"Set seed for reproducibility.\n",
    "    \"\"\"\n",
    "    random.seed(seed_value)\n",
    "    np.random.seed(seed_value)\n",
    "    torch.manual_seed(seed_value)\n",
    "    torch.cuda.manual_seed_all(seed_value)\n",
    "\n",
    "def train(model, train_dataloader, val_dataloader=None, epochs=4, evaluation=False):\n",
    "    \"\"\"Train the BertClassifier model.\n",
    "    \"\"\"\n",
    "    # Start training loop\n",
    "    print(\"Start training...\\n\")\n",
    "    epoch_train_loss = []\n",
    "    epoch_val_loss = []\n",
    "    epoch_train_acc = []\n",
    "    epoch_val_acc = []\n",
    "    for epoch_i in range(epochs):\n",
    "        # =======================================\n",
    "        #               Training\n",
    "        # =======================================\n",
    "        # Print the header of the result table\n",
    "        print(f\"{'Epoch':^7} | {'Batch':^7} | {'Train Loss':^12} | {'Train Acc':^12} |{'Val Loss':^12} | {'Val Acc':^12} | {'Elapsed':^9}\")\n",
    "        print(\"-\"*90)\n",
    "\n",
    "        # Measure the elapsed time of each epoch\n",
    "        t0_epoch, t0_batch = time.time(), time.time()\n",
    "\n",
    "        # Reset tracking variables at the beginning of each epoch\n",
    "        total_loss, total_accuracy, batch_accuracy, batch_loss, batch_counts = 0, 0, 0, 0, 0\n",
    "\n",
    "        # Put the model into the training mode\n",
    "        model.train()\n",
    "\n",
    "        # For each batch of training data...\n",
    "        for step, batch in enumerate(train_dataloader):\n",
    "            batch_counts +=1\n",
    "            # Load batch to GPU\n",
    "            b_input_ids, b_attn_mask, b_labels = batch\n",
    "            \n",
    "            b_labels = b_labels.long()\n",
    "            \n",
    "            # Move tensors to GPU\n",
    "            b_input_ids = b_input_ids.to(device)\n",
    "            b_attn_mask = b_attn_mask.to(device)\n",
    "            b_labels = b_labels.to(device)\n",
    "\n",
    "            # Zero out any previously calculated gradients\n",
    "            model.zero_grad()\n",
    "\n",
    "            # Perform a forward pass. This will return logits.\n",
    "            logits = model(b_input_ids, b_attn_mask)\n",
    "\n",
    "            # Compute loss and accumulate the loss values\n",
    "            loss = loss_fn(logits, b_labels)\n",
    "            batch_loss += loss.item()\n",
    "            total_loss += loss.item()\n",
    "            \n",
    "            # Get the predictions\n",
    "            preds = torch.argmax(logits, dim=1).flatten()\n",
    "\n",
    "            # Calculate the accuracy rate\n",
    "            accuracy = (preds == b_labels).cpu().numpy().mean() * 100\n",
    "            batch_accuracy += accuracy\n",
    "            total_accuracy += accuracy\n",
    "           \n",
    "            # Perform a backward pass to calculate gradients\n",
    "            loss.backward()\n",
    "\n",
    "            # Clip the norm of the gradients to 1.0 to prevent \"exploding gradients\"\n",
    "            torch.nn.utils.clip_grad_norm_(model.parameters(), 1.0)\n",
    "\n",
    "            # Update parameters and the learning rate\n",
    "            optimizer.step()\n",
    "            scheduler.step()\n",
    "\n",
    "            # Print the loss values and time elapsed for every 20 batches\n",
    "            if (step % 20 == 0 and step != 0) or (step == len(train_dataloader) - 1):\n",
    "                # Calculate time elapsed for 20 batches\n",
    "                time_elapsed = time.time() - t0_batch\n",
    "\n",
    "                # Print training results\n",
    "                print(f\"{epoch_i + 1:^7} | {step:^7} | {batch_loss / batch_counts:^12.6f} | {batch_accuracy / batch_counts:^12.6f} |{'-':^12} | {'-':^12} | {time_elapsed:^9.2f}\")\n",
    "                \n",
    "               \n",
    "                # Reset batch tracking variables\n",
    "                batch_loss, batch_counts, batch_accuracy = 0, 0, 0\n",
    "                t0_batch = time.time()\n",
    "\n",
    "        # Calculate the average loss over the entire training data\n",
    "        avg_train_loss = total_loss / len(train_dataloader)\n",
    "        avg_train_accuracy = total_accuracy / len(train_dataloader)\n",
    "\n",
    "        print(\"-\"*90)\n",
    "        # =======================================\n",
    "        #               Evaluation\n",
    "        # =======================================\n",
    "        if evaluation == True:\n",
    "            # After the completion of each training epoch, measure the model's performance\n",
    "            # on our validation set.\n",
    "            val_loss, val_accuracy = evaluate(model, val_dataloader)\n",
    "\n",
    "            \n",
    "            # Print training results\n",
    "            print(f\"{epoch_i + 1:^7} | {step:^7} | {avg_train_loss:^12.6f} | {avg_train_accuracy:^12.6f} | {val_loss:^12.6f} | {val_accuracy:^12.6f}| {time_elapsed:^9.2f}\")\n",
    "\n",
    "            print(\"-\"*90)\n",
    "        print(\"\\n\")\n",
    "        \n",
    "        \n",
    "        epoch_train_loss.append(avg_train_loss)\n",
    "        epoch_val_loss.append(val_loss)\n",
    "        epoch_train_acc.append(avg_train_accuracy)\n",
    "        epoch_val_acc.append(val_accuracy)\n",
    "        \n",
    "    print(\"Training complete!\")\n",
    "    return epoch_train_loss, epoch_val_loss, epoch_train_acc, epoch_val_acc\n",
    "\n",
    "\n",
    "def evaluate(model, val_dataloader):\n",
    "    \"\"\"After the completion of each training epoch, measure the model's performance\n",
    "    on our validation set.\n",
    "    \"\"\"\n",
    "    # Put the model into the evaluation mode. The dropout layers are disabled during\n",
    "    # the test time.\n",
    "    model.eval()\n",
    "\n",
    "    # Tracking variables\n",
    "    val_accuracy = []\n",
    "    val_loss = []\n",
    "\n",
    "    # For each batch in our validation set...\n",
    "    for batch in val_dataloader:\n",
    "        # Load batch to GPU\n",
    "        b_input_ids, b_attn_mask, b_labels = batch\n",
    "\n",
    "        b_labels = b_labels.long()\n",
    "\n",
    "        # Move tensors to GPU\n",
    "        b_input_ids = b_input_ids.to(device)\n",
    "        b_attn_mask = b_attn_mask.to(device)\n",
    "        b_labels = b_labels.to(device)\n",
    "\n",
    "        # Compute logits\n",
    "        with torch.no_grad():\n",
    "            logits = model(b_input_ids, b_attn_mask)\n",
    "\n",
    "        # Compute loss\n",
    "        loss = loss_fn(logits, b_labels)\n",
    "        val_loss.append(loss.item())\n",
    "\n",
    "        # Get the predictions\n",
    "        preds = torch.argmax(logits, dim=1).flatten()\n",
    "\n",
    "        # Calculate the accuracy rate\n",
    "        accuracy = (preds == b_labels).cpu().numpy().mean() * 100\n",
    "        val_accuracy.append(accuracy)\n",
    "\n",
    "    # Compute the average accuracy and loss over the validation set.\n",
    "    val_loss = np.mean(val_loss)\n",
    "    val_accuracy = np.mean(val_accuracy)\n",
    "\n",
    "    return val_loss, val_accuracy"
   ]
  },
  {
   "cell_type": "code",
   "execution_count": 33,
   "metadata": {},
   "outputs": [],
   "source": [
    "import matplotlib.pyplot as plt\n",
    "\n",
    "def plot_training_history(train_acc, val_acc, train_loss, val_loss, model_name, learning_rate):\n",
    "    # Create a figure\n",
    "    fig, (ax1, ax2) = plt.subplots(1, 2, figsize=(12, 4))\n",
    "    fig.suptitle(f'Training history of {model_name} (learning rate: {learning_rate})', fontsize=16)\n",
    "    fig.subplots_adjust(top=0.8)\n",
    "\n",
    "    # Plot training & validation accuracy values\n",
    "    ax1.plot(train_acc)\n",
    "    ax1.plot(val_acc)\n",
    "    ax1.set_title('Model accuracy')\n",
    "    ax1.set_ylabel('Accuracy')\n",
    "    ax1.set_xlabel('Epoch')\n",
    "    ax1.legend(['Train', 'Validation'], loc='upper left')\n",
    "\n",
    "    # Plot training & validation loss values\n",
    "    ax2.plot(train_loss)\n",
    "    ax2.plot(val_loss)\n",
    "    ax2.set_title('Model loss')\n",
    "    ax2.set_ylabel('Loss')\n",
    "    ax2.set_xlabel('Epoch')\n",
    "    ax2.legend(['Train', 'Validation'], loc='upper left')\n",
    "\n",
    "    # Show the figure\n",
    "    plt.show()\n",
    "\n"
   ]
  },
  {
   "cell_type": "markdown",
   "metadata": {
    "id": "dPR0x2UK1fgF"
   },
   "source": [
    "# Evaluation"
   ]
  },
  {
   "cell_type": "code",
   "execution_count": 34,
   "metadata": {
    "id": "dI0re7DbGAdl"
   },
   "outputs": [],
   "source": [
    "import torch.nn.functional as F\n",
    "\n",
    "def bert_predict(model, test_dataloader):\n",
    "    \"\"\"Perform a forward pass on the trained BERT model to predict probabilities\n",
    "    on the test set.\n",
    "    \"\"\"\n",
    "    # Put the model into the evaluation mode. The dropout layers are disabled during\n",
    "    # the test time.\n",
    "    model.eval()\n",
    "\n",
    "    all_logits = []\n",
    "\n",
    "    # For each batch in our test set...\n",
    "    for batch in test_dataloader:\n",
    "        # Load batch to GPU\n",
    "        b_input_ids, b_attn_mask = tuple(t.to(device) for t in batch)[:2]\n",
    "\n",
    "        # Compute logits\n",
    "        with torch.no_grad():\n",
    "            logits = model(b_input_ids, b_attn_mask)\n",
    "        all_logits.append(logits)\n",
    "    \n",
    "    # Concatenate logits from each batch\n",
    "    all_logits = torch.cat(all_logits, dim=0)\n",
    "\n",
    "    # Apply softmax to calculate probabilities\n",
    "    probs = F.softmax(all_logits, dim=1).cpu().numpy()\n",
    "\n",
    "    return probs"
   ]
  },
  {
   "cell_type": "code",
   "execution_count": 35,
   "metadata": {},
   "outputs": [],
   "source": [
    "from sklearn.metrics import confusion_matrix\n",
    "import seaborn as sns\n",
    "sns.set(font_scale=1.2) # font size 2\n",
    "def evaluate_matrix(y_true, y_pred): \n",
    "    accuracy = (y_pred == y_true).mean() * 100\n",
    "   \n",
    "    # Compute confusion matrix\n",
    "    cm = confusion_matrix(y_true, y_pred)\n",
    "\n",
    "    # Optional: Normalize confusion matrix\n",
    "    cm_norm = cm.astype('float') / cm.sum(axis=1)[:, np.newaxis]\n",
    "\n",
    "    # Create a heatmap for visualization\n",
    "    plt.figure(figsize=(6.5,5))\n",
    "    plt.title(f'Average Accuracy: {accuracy:^2.2f}%')\n",
    "    sns.heatmap(cm_norm, annot=True, cmap='Blues',annot_kws={\"fontsize\":15})\n",
    "    plt.xlabel('Predicted')\n",
    "    plt.ylabel('True')\n",
    "    plt.show()"
   ]
  },
  {
   "cell_type": "code",
   "execution_count": 36,
   "metadata": {},
   "outputs": [],
   "source": [
    "import torch.nn as nn\n",
    "def classifier(D_in, H, D_out):\n",
    "    return nn.Sequential(\n",
    "                nn.Linear(D_in, H),\n",
    "                nn.ReLU(),\n",
    "                nn.Dropout(0.25),\n",
    "                nn.Linear(H, H),\n",
    "                nn.ReLU(),\n",
    "                nn.Dropout(0.25),\n",
    "                nn.Linear(H, D_out),\n",
    "            )"
   ]
  },
  {
   "cell_type": "code",
   "execution_count": 37,
   "metadata": {},
   "outputs": [
    {
     "name": "stderr",
     "output_type": "stream",
     "text": [
      "Some weights of the model checkpoint at bert-base-uncased were not used when initializing BertModel: ['cls.seq_relationship.weight', 'cls.predictions.transform.dense.weight', 'cls.predictions.transform.LayerNorm.weight', 'cls.predictions.decoder.weight', 'cls.predictions.transform.dense.bias', 'cls.predictions.bias', 'cls.seq_relationship.bias', 'cls.predictions.transform.LayerNorm.bias']\n",
      "- This IS expected if you are initializing BertModel from the checkpoint of a model trained on another task or with another architecture (e.g. initializing a BertForSequenceClassification model from a BertForPreTraining model).\n",
      "- This IS NOT expected if you are initializing BertModel from the checkpoint of a model that you expect to be exactly identical (initializing a BertForSequenceClassification model from a BertForSequenceClassification model).\n",
      "C:\\Users\\Ray\\anaconda3\\envs\\cv\\lib\\site-packages\\transformers\\optimization.py:407: FutureWarning: This implementation of AdamW is deprecated and will be removed in a future version. Use the PyTorch implementation torch.optim.AdamW instead, or set `no_deprecation_warning=True` to disable this warning\n",
      "  warnings.warn(\n"
     ]
    }
   ],
   "source": [
    "learning_rate = 1e-4\n",
    "epochs_n = 3\n",
    "bert_classifier, optimizer, scheduler = initialize_model(classifier, lr=learning_rate, epochs=epochs_n)\n"
   ]
  },
  {
   "cell_type": "code",
   "execution_count": 38,
   "metadata": {},
   "outputs": [
    {
     "data": {
      "text/plain": [
       "BertClassifier(\n",
       "  (bert): BertModel(\n",
       "    (embeddings): BertEmbeddings(\n",
       "      (word_embeddings): Embedding(30522, 768, padding_idx=0)\n",
       "      (position_embeddings): Embedding(512, 768)\n",
       "      (token_type_embeddings): Embedding(2, 768)\n",
       "      (LayerNorm): LayerNorm((768,), eps=1e-12, elementwise_affine=True)\n",
       "      (dropout): Dropout(p=0.1, inplace=False)\n",
       "    )\n",
       "    (encoder): BertEncoder(\n",
       "      (layer): ModuleList(\n",
       "        (0-11): 12 x BertLayer(\n",
       "          (attention): BertAttention(\n",
       "            (self): BertSelfAttention(\n",
       "              (query): Linear(in_features=768, out_features=768, bias=True)\n",
       "              (key): Linear(in_features=768, out_features=768, bias=True)\n",
       "              (value): Linear(in_features=768, out_features=768, bias=True)\n",
       "              (dropout): Dropout(p=0.1, inplace=False)\n",
       "            )\n",
       "            (output): BertSelfOutput(\n",
       "              (dense): Linear(in_features=768, out_features=768, bias=True)\n",
       "              (LayerNorm): LayerNorm((768,), eps=1e-12, elementwise_affine=True)\n",
       "              (dropout): Dropout(p=0.1, inplace=False)\n",
       "            )\n",
       "          )\n",
       "          (intermediate): BertIntermediate(\n",
       "            (dense): Linear(in_features=768, out_features=3072, bias=True)\n",
       "            (intermediate_act_fn): GELUActivation()\n",
       "          )\n",
       "          (output): BertOutput(\n",
       "            (dense): Linear(in_features=3072, out_features=768, bias=True)\n",
       "            (LayerNorm): LayerNorm((768,), eps=1e-12, elementwise_affine=True)\n",
       "            (dropout): Dropout(p=0.1, inplace=False)\n",
       "          )\n",
       "        )\n",
       "      )\n",
       "    )\n",
       "    (pooler): BertPooler(\n",
       "      (dense): Linear(in_features=768, out_features=768, bias=True)\n",
       "      (activation): Tanh()\n",
       "    )\n",
       "  )\n",
       "  (classifier): Sequential(\n",
       "    (0): Linear(in_features=768, out_features=100, bias=True)\n",
       "    (1): ReLU()\n",
       "    (2): Dropout(p=0.25, inplace=False)\n",
       "    (3): Linear(in_features=100, out_features=100, bias=True)\n",
       "    (4): ReLU()\n",
       "    (5): Dropout(p=0.25, inplace=False)\n",
       "    (6): Linear(in_features=100, out_features=3, bias=True)\n",
       "  )\n",
       ")"
      ]
     },
     "execution_count": 38,
     "metadata": {},
     "output_type": "execute_result"
    }
   ],
   "source": [
    "bert_classifier"
   ]
  },
  {
   "cell_type": "code",
   "execution_count": null,
   "metadata": {},
   "outputs": [],
   "source": []
  },
  {
   "cell_type": "code",
   "execution_count": 39,
   "metadata": {},
   "outputs": [],
   "source": [
    "def classifier_2(D_in, H, D_out):\n",
    "    return nn.Sequential(\n",
    "                nn.Linear(D_in, H),\n",
    "                nn.ReLU(),\n",
    "                nn.Dropout(0.25),\n",
    "                nn.Linear(H, D_out),\n",
    "            )"
   ]
  },
  {
   "cell_type": "code",
   "execution_count": null,
   "metadata": {},
   "outputs": [
    {
     "name": "stderr",
     "output_type": "stream",
     "text": [
      "Some weights of the model checkpoint at bert-base-uncased were not used when initializing BertModel: ['cls.seq_relationship.weight', 'cls.predictions.transform.dense.weight', 'cls.predictions.transform.LayerNorm.weight', 'cls.predictions.decoder.weight', 'cls.predictions.transform.dense.bias', 'cls.predictions.bias', 'cls.seq_relationship.bias', 'cls.predictions.transform.LayerNorm.bias']\n",
      "- This IS expected if you are initializing BertModel from the checkpoint of a model trained on another task or with another architecture (e.g. initializing a BertForSequenceClassification model from a BertForPreTraining model).\n",
      "- This IS NOT expected if you are initializing BertModel from the checkpoint of a model that you expect to be exactly identical (initializing a BertForSequenceClassification model from a BertForSequenceClassification model).\n",
      "C:\\Users\\Ray\\anaconda3\\envs\\cv\\lib\\site-packages\\transformers\\optimization.py:407: FutureWarning: This implementation of AdamW is deprecated and will be removed in a future version. Use the PyTorch implementation torch.optim.AdamW instead, or set `no_deprecation_warning=True` to disable this warning\n",
      "  warnings.warn(\n"
     ]
    },
    {
     "name": "stdout",
     "output_type": "stream",
     "text": [
      "Start training...\n",
      "\n",
      " Epoch  |  Batch  |  Train Loss  |  Train Acc   |  Val Loss   |   Val Acc    |  Elapsed \n",
      "------------------------------------------------------------------------------------------\n",
      "   1    |   20    |   0.084986   |  59.821429   |     -       |      -       |   3.48   \n",
      "   1    |   40    |   0.074705   |  63.437500   |     -       |      -       |   3.11   \n",
      "   1    |   60    |   0.064331   |  69.062500   |     -       |      -       |   3.08   \n",
      "   1    |   80    |   0.048598   |  74.687500   |     -       |      -       |   3.10   \n",
      "   1    |   100   |   0.042293   |  73.437500   |     -       |      -       |   3.15   \n",
      "   1    |   120   |   0.049489   |  72.187500   |     -       |      -       |   3.15   \n",
      "   1    |   140   |   0.049060   |  74.062500   |     -       |      -       |   3.15   \n",
      "   1    |   160   |   0.037284   |  77.187500   |     -       |      -       |   3.17   \n",
      "   1    |   180   |   0.043681   |  70.625000   |     -       |      -       |   3.18   \n",
      "   1    |   200   |   0.046445   |  75.625000   |     -       |      -       |   3.14   \n",
      "   1    |   220   |   0.043554   |  75.937500   |     -       |      -       |   3.11   \n",
      "   1    |   240   |   0.036692   |  75.625000   |     -       |      -       |   3.11   \n",
      "   1    |   260   |   0.036836   |  78.437500   |     -       |      -       |   3.11   \n",
      "   1    |   280   |   0.032409   |  76.875000   |     -       |      -       |   3.14   \n",
      "   1    |   299   |   0.039731   |  74.342105   |     -       |      -       |   3.01   \n",
      "------------------------------------------------------------------------------------------\n",
      "   1    |   299   |   0.048824   |  72.708333   |   0.033742   |  76.315789  |   3.01   \n",
      "------------------------------------------------------------------------------------------\n",
      "\n",
      "\n",
      " Epoch  |  Batch  |  Train Loss  |  Train Acc   |  Val Loss   |   Val Acc    |  Elapsed \n",
      "------------------------------------------------------------------------------------------\n",
      "   2    |   20    |   0.026054   |  81.845238   |     -       |      -       |   3.32   \n",
      "   2    |   40    |   0.026957   |  78.437500   |     -       |      -       |   3.15   \n",
      "   2    |   60    |   0.027376   |  79.375000   |     -       |      -       |   3.17   \n",
      "   2    |   80    |   0.019827   |  81.562500   |     -       |      -       |   3.09   \n",
      "   2    |   100   |   0.037934   |  78.125000   |     -       |      -       |   3.09   \n",
      "   2    |   120   |   0.023429   |  81.562500   |     -       |      -       |   3.10   \n",
      "   2    |   140   |   0.023974   |  80.312500   |     -       |      -       |   3.14   \n",
      "   2    |   160   |   0.018891   |  83.750000   |     -       |      -       |   3.15   \n",
      "   2    |   180   |   0.020188   |  84.375000   |     -       |      -       |   3.17   \n",
      "   2    |   200   |   0.017828   |  85.000000   |     -       |      -       |   3.17   \n",
      "   2    |   220   |   0.020541   |  83.437500   |     -       |      -       |   3.17   \n",
      "   2    |   240   |   0.027467   |  80.937500   |     -       |      -       |   3.14   \n",
      "   2    |   260   |   0.017549   |  85.312500   |     -       |      -       |   3.12   \n",
      "   2    |   280   |   0.022968   |  80.937500   |     -       |      -       |   3.15   \n",
      "   2    |   299   |   0.019361   |  84.210526   |     -       |      -       |   2.98   \n",
      "------------------------------------------------------------------------------------------\n",
      "   2    |   299   |   0.023379   |  81.937500   |   0.023516   |  82.401316  |   2.98   \n",
      "------------------------------------------------------------------------------------------\n",
      "\n",
      "\n",
      " Epoch  |  Batch  |  Train Loss  |  Train Acc   |  Val Loss   |   Val Acc    |  Elapsed \n",
      "------------------------------------------------------------------------------------------\n",
      "   3    |   20    |   0.007353   |  91.071429   |     -       |      -       |   3.34   \n",
      "   3    |   40    |   0.015375   |  87.187500   |     -       |      -       |   3.17   \n",
      "   3    |   60    |   0.009314   |  90.000000   |     -       |      -       |   3.16   \n",
      "   3    |   80    |   0.008107   |  88.750000   |     -       |      -       |   3.18   \n",
      "   3    |   100   |   0.011970   |  87.812500   |     -       |      -       |   3.15   \n",
      "   3    |   120   |   0.014507   |  86.562500   |     -       |      -       |   3.14   \n",
      "   3    |   140   |   0.009356   |  90.000000   |     -       |      -       |   3.14   \n",
      "   3    |   160   |   0.009426   |  91.875000   |     -       |      -       |   3.12   \n",
      "   3    |   180   |   0.015605   |  88.750000   |     -       |      -       |   3.15   \n",
      "   3    |   200   |   0.014853   |  86.562500   |     -       |      -       |   3.32   \n",
      "   3    |   220   |   0.012661   |  87.500000   |     -       |      -       |   3.26   \n",
      "   3    |   240   |   0.009982   |  88.437500   |     -       |      -       |   3.18   \n",
      "   3    |   260   |   0.009737   |  88.437500   |     -       |      -       |   3.18   \n",
      "   3    |   280   |   0.012143   |  86.875000   |     -       |      -       |   3.15   \n",
      "   3    |   299   |   0.009770   |  89.802632   |     -       |      -       |   3.00   \n",
      "------------------------------------------------------------------------------------------\n",
      "   3    |   299   |   0.011336   |  88.645833   |   0.022195   |  84.210526  |   3.00   \n",
      "------------------------------------------------------------------------------------------\n",
      "\n",
      "\n",
      "Training complete!\n"
     ]
    },
    {
     "data": {
      "image/png": "[encoded data removed]",
      "text/plain": [
       "<Figure size 1200x400 with 2 Axes>"
      ]
     },
     "metadata": {},
     "output_type": "display_data"
    },
    {
     "data": {
      "image/png": "[encoded data removed]",
      "text/plain": [
       "<Figure size 650x500 with 2 Axes>"
      ]
     },
     "metadata": {},
     "output_type": "display_data"
    },
    {
     "name": "stderr",
     "output_type": "stream",
     "text": [
      "Some weights of the model checkpoint at bert-base-uncased were not used when initializing BertModel: ['cls.seq_relationship.weight', 'cls.predictions.transform.dense.weight', 'cls.predictions.transform.LayerNorm.weight', 'cls.predictions.decoder.weight', 'cls.predictions.transform.dense.bias', 'cls.predictions.bias', 'cls.seq_relationship.bias', 'cls.predictions.transform.LayerNorm.bias']\n",
      "- This IS expected if you are initializing BertModel from the checkpoint of a model trained on another task or with another architecture (e.g. initializing a BertForSequenceClassification model from a BertForPreTraining model).\n",
      "- This IS NOT expected if you are initializing BertModel from the checkpoint of a model that you expect to be exactly identical (initializing a BertForSequenceClassification model from a BertForSequenceClassification model).\n",
      "C:\\Users\\Ray\\anaconda3\\envs\\cv\\lib\\site-packages\\transformers\\optimization.py:407: FutureWarning: This implementation of AdamW is deprecated and will be removed in a future version. Use the PyTorch implementation torch.optim.AdamW instead, or set `no_deprecation_warning=True` to disable this warning\n",
      "  warnings.warn(\n"
     ]
    },
    {
     "name": "stdout",
     "output_type": "stream",
     "text": [
      "Start training...\n",
      "\n",
      " Epoch  |  Batch  |  Train Loss  |  Train Acc   |  Val Loss   |   Val Acc    |  Elapsed \n",
      "------------------------------------------------------------------------------------------\n",
      "   1    |   20    |   0.095937   |  51.488095   |     -       |      -       |   3.31   \n",
      "   1    |   40    |   0.077508   |  58.750000   |     -       |      -       |   3.16   \n",
      "   1    |   60    |   0.059519   |  72.500000   |     -       |      -       |   3.17   \n",
      "   1    |   80    |   0.046365   |  74.687500   |     -       |      -       |   3.22   \n",
      "   1    |   100   |   0.033994   |  80.625000   |     -       |      -       |   3.22   \n",
      "   1    |   120   |   0.032738   |  77.187500   |     -       |      -       |   3.19   \n",
      "   1    |   140   |   0.039934   |  72.812500   |     -       |      -       |   3.16   \n",
      "   1    |   160   |   0.039304   |  77.187500   |     -       |      -       |   3.13   \n",
      "   1    |   180   |   0.034412   |  77.500000   |     -       |      -       |   3.15   \n",
      "   1    |   200   |   0.034120   |  78.437500   |     -       |      -       |   3.12   \n",
      "   1    |   220   |   0.021966   |  81.875000   |     -       |      -       |   3.20   \n",
      "   1    |   240   |   0.031217   |  78.437500   |     -       |      -       |   3.18   \n",
      "   1    |   260   |   0.021569   |  83.125000   |     -       |      -       |   3.19   \n",
      "   1    |   280   |   0.029543   |  80.937500   |     -       |      -       |   3.19   \n",
      "   1    |   299   |   0.031255   |  81.578947   |     -       |      -       |   3.05   \n",
      "------------------------------------------------------------------------------------------\n",
      "   1    |   299   |   0.042174   |  75.041667   |   0.021863   |  83.717105  |   3.05   \n",
      "------------------------------------------------------------------------------------------\n",
      "\n",
      "\n",
      " Epoch  |  Batch  |  Train Loss  |  Train Acc   |  Val Loss   |   Val Acc    |  Elapsed \n",
      "------------------------------------------------------------------------------------------\n",
      "   2    |   20    |   0.015400   |  86.011905   |     -       |      -       |   3.30   \n",
      "   2    |   40    |   0.019290   |  84.375000   |     -       |      -       |   3.18   \n",
      "   2    |   60    |   0.012094   |  88.437500   |     -       |      -       |   3.15   \n",
      "   2    |   80    |   0.015732   |  86.562500   |     -       |      -       |   3.18   \n",
      "   2    |   100   |   0.016879   |  86.562500   |     -       |      -       |   3.22   \n",
      "   2    |   120   |   0.017133   |  86.562500   |     -       |      -       |   3.21   \n",
      "   2    |   140   |   0.013434   |  86.875000   |     -       |      -       |   3.20   \n",
      "   2    |   160   |   0.010753   |  87.500000   |     -       |      -       |   3.20   \n",
      "   2    |   180   |   0.013160   |  89.062500   |     -       |      -       |   3.21   \n",
      "   2    |   200   |   0.013637   |  87.187500   |     -       |      -       |   3.17   \n",
      "   2    |   220   |   0.016618   |  86.250000   |     -       |      -       |   3.14   \n",
      "   2    |   240   |   0.010497   |  86.562500   |     -       |      -       |   3.14   \n",
      "   2    |   260   |   0.016389   |  85.937500   |     -       |      -       |   3.14   \n",
      "   2    |   280   |   0.010424   |  86.562500   |     -       |      -       |   3.20   \n",
      "   2    |   299   |   0.017924   |  82.236842   |     -       |      -       |   3.03   \n",
      "------------------------------------------------------------------------------------------\n",
      "   2    |   299   |   0.014616   |  86.458333   |   0.016865   |  82.565789  |   3.03   \n",
      "------------------------------------------------------------------------------------------\n",
      "\n",
      "\n",
      " Epoch  |  Batch  |  Train Loss  |  Train Acc   |  Val Loss   |   Val Acc    |  Elapsed \n",
      "------------------------------------------------------------------------------------------\n",
      "   3    |   20    |   0.007814   |  89.880952   |     -       |      -       |   3.33   \n",
      "   3    |   40    |   0.009514   |  90.625000   |     -       |      -       |   3.19   \n",
      "   3    |   60    |   0.006420   |  92.500000   |     -       |      -       |   3.19   \n",
      "   3    |   80    |   0.003468   |  92.812500   |     -       |      -       |   3.15   \n",
      "   3    |   100   |   0.003351   |  95.000000   |     -       |      -       |   3.16   \n",
      "   3    |   120   |   0.007880   |  92.187500   |     -       |      -       |   3.18   \n",
      "   3    |   140   |   0.005477   |  92.812500   |     -       |      -       |   3.20   \n",
      "   3    |   160   |   0.008200   |  91.562500   |     -       |      -       |   3.21   \n",
      "   3    |   180   |   0.004549   |  94.375000   |     -       |      -       |   3.20   \n",
      "   3    |   200   |   0.004033   |  92.500000   |     -       |      -       |   3.23   \n",
      "   3    |   220   |   0.005680   |  93.750000   |     -       |      -       |   3.23   \n",
      "   3    |   240   |   0.006156   |  91.562500   |     -       |      -       |   3.20   \n",
      "   3    |   260   |   0.003537   |  94.375000   |     -       |      -       |   3.19   \n",
      "   3    |   280   |   0.004238   |  92.812500   |     -       |      -       |   3.15   \n",
      "   3    |   299   |   0.005742   |  94.078947   |     -       |      -       |   3.03   \n",
      "------------------------------------------------------------------------------------------\n",
      "   3    |   299   |   0.005744   |  92.708333   |   0.021034   |  84.210526  |   3.03   \n",
      "------------------------------------------------------------------------------------------\n",
      "\n",
      "\n",
      "Training complete!\n"
     ]
    },
    {
     "data": {
      "image/png": "[encoded data removed]",
      "text/plain": [
       "<Figure size 1200x400 with 2 Axes>"
      ]
     },
     "metadata": {},
     "output_type": "display_data"
    },
    {
     "data": {
      "image/png": "[encoded data removed]",
      "text/plain": [
       "<Figure size 650x500 with 2 Axes>"
      ]
     },
     "metadata": {},
     "output_type": "display_data"
    },
    {
     "name": "stderr",
     "output_type": "stream",
     "text": [
      "Some weights of the model checkpoint at bert-base-uncased were not used when initializing BertModel: ['cls.seq_relationship.weight', 'cls.predictions.transform.dense.weight', 'cls.predictions.transform.LayerNorm.weight', 'cls.predictions.decoder.weight', 'cls.predictions.transform.dense.bias', 'cls.predictions.bias', 'cls.seq_relationship.bias', 'cls.predictions.transform.LayerNorm.bias']\n",
      "- This IS expected if you are initializing BertModel from the checkpoint of a model trained on another task or with another architecture (e.g. initializing a BertForSequenceClassification model from a BertForPreTraining model).\n",
      "- This IS NOT expected if you are initializing BertModel from the checkpoint of a model that you expect to be exactly identical (initializing a BertForSequenceClassification model from a BertForSequenceClassification model).\n",
      "C:\\Users\\Ray\\anaconda3\\envs\\cv\\lib\\site-packages\\transformers\\optimization.py:407: FutureWarning: This implementation of AdamW is deprecated and will be removed in a future version. Use the PyTorch implementation torch.optim.AdamW instead, or set `no_deprecation_warning=True` to disable this warning\n",
      "  warnings.warn(\n"
     ]
    },
    {
     "name": "stdout",
     "output_type": "stream",
     "text": [
      "Start training...\n",
      "\n",
      " Epoch  |  Batch  |  Train Loss  |  Train Acc   |  Val Loss   |   Val Acc    |  Elapsed \n",
      "------------------------------------------------------------------------------------------\n",
      "   1    |   20    |   0.106377   |  48.511905   |     -       |      -       |   3.39   \n",
      "   1    |   40    |   0.084310   |  56.875000   |     -       |      -       |   3.24   \n",
      "   1    |   60    |   0.071421   |  63.125000   |     -       |      -       |   3.25   \n",
      "   1    |   80    |   0.057931   |  76.875000   |     -       |      -       |   3.21   \n",
      "   1    |   100   |   0.079654   |  64.687500   |     -       |      -       |   3.20   \n",
      "   1    |   120   |   0.044225   |  78.437500   |     -       |      -       |   3.16   \n",
      "   1    |   140   |   0.043058   |  77.187500   |     -       |      -       |   3.17   \n",
      "   1    |   160   |   0.039743   |  77.812500   |     -       |      -       |   3.21   \n",
      "   1    |   180   |   0.037696   |  76.562500   |     -       |      -       |   3.20   \n",
      "   1    |   200   |   0.041174   |  73.437500   |     -       |      -       |   3.18   \n",
      "   1    |   220   |   0.037057   |  76.875000   |     -       |      -       |   3.20   \n",
      "   1    |   240   |   0.031827   |  78.125000   |     -       |      -       |   3.21   \n",
      "   1    |   260   |   0.030246   |  81.250000   |     -       |      -       |   3.21   \n",
      "   1    |   280   |   0.031530   |  80.937500   |     -       |      -       |   3.15   \n",
      "   1    |   299   |   0.034433   |  78.618421   |     -       |      -       |   3.00   \n",
      "------------------------------------------------------------------------------------------\n",
      "   1    |   299   |   0.051619   |  72.520833   |   0.023058   |  81.085526  |   3.00   \n",
      "------------------------------------------------------------------------------------------\n",
      "\n",
      "\n",
      " Epoch  |  Batch  |  Train Loss  |  Train Acc   |  Val Loss   |   Val Acc    |  Elapsed \n",
      "------------------------------------------------------------------------------------------\n",
      "   2    |   20    |   0.025721   |  83.035714   |     -       |      -       |   3.34   \n",
      "   2    |   40    |   0.016078   |  85.625000   |     -       |      -       |   3.19   \n",
      "   2    |   60    |   0.016494   |  86.875000   |     -       |      -       |   3.21   \n",
      "   2    |   80    |   0.021375   |  84.687500   |     -       |      -       |   3.20   \n",
      "   2    |   100   |   0.029863   |  80.937500   |     -       |      -       |   3.19   \n",
      "   2    |   120   |   0.027198   |  84.375000   |     -       |      -       |   3.25   \n",
      "   2    |   140   |   0.016479   |  86.875000   |     -       |      -       |   3.18   \n",
      "   2    |   160   |   0.018457   |  87.500000   |     -       |      -       |   3.19   \n",
      "   2    |   180   |   0.020033   |  84.062500   |     -       |      -       |   3.18   \n",
      "   2    |   200   |   0.017343   |  84.375000   |     -       |      -       |   3.19   \n",
      "   2    |   220   |   0.012337   |  87.812500   |     -       |      -       |   3.19   \n",
      "   2    |   240   |   0.014425   |  87.812500   |     -       |      -       |   3.21   \n",
      "   2    |   260   |   0.015006   |  87.500000   |     -       |      -       |   3.22   \n",
      "   2    |   280   |   0.020246   |  84.687500   |     -       |      -       |   3.22   \n",
      "   2    |   299   |   0.019025   |  86.184211   |     -       |      -       |   3.07   \n",
      "------------------------------------------------------------------------------------------\n",
      "   2    |   299   |   0.019361   |  85.479167   |   0.018260   |  83.388158  |   3.07   \n",
      "------------------------------------------------------------------------------------------\n",
      "\n",
      "\n",
      " Epoch  |  Batch  |  Train Loss  |  Train Acc   |  Val Loss   |   Val Acc    |  Elapsed \n",
      "------------------------------------------------------------------------------------------\n",
      "   3    |   20    |   0.011163   |  89.880952   |     -       |      -       |   3.33   \n",
      "   3    |   40    |   0.016545   |  88.437500   |     -       |      -       |   3.17   \n",
      "   3    |   60    |   0.010409   |  90.312500   |     -       |      -       |   3.16   \n",
      "   3    |   80    |   0.011622   |  88.750000   |     -       |      -       |   3.24   \n",
      "   3    |   100   |   0.008306   |  90.312500   |     -       |      -       |   3.18   \n",
      "   3    |   120   |   0.014749   |  88.437500   |     -       |      -       |   3.25   \n",
      "   3    |   140   |   0.007663   |  91.875000   |     -       |      -       |   3.21   \n",
      "   3    |   160   |   0.010629   |  92.187500   |     -       |      -       |   3.22   \n",
      "   3    |   180   |   0.012112   |  88.437500   |     -       |      -       |   3.18   \n",
      "   3    |   200   |   0.009438   |  90.000000   |     -       |      -       |   3.18   \n",
      "   3    |   220   |   0.008900   |  91.250000   |     -       |      -       |   3.16   \n",
      "   3    |   240   |   0.008309   |  91.562500   |     -       |      -       |   3.20   \n",
      "   3    |   260   |   0.008209   |  91.875000   |     -       |      -       |   3.22   \n",
      "   3    |   280   |   0.009132   |  90.000000   |     -       |      -       |   3.23   \n",
      "   3    |   299   |   0.009155   |  90.460526   |     -       |      -       |   3.07   \n",
      "------------------------------------------------------------------------------------------\n",
      "   3    |   299   |   0.010429   |  90.250000   |   0.018992   |  83.388158  |   3.07   \n",
      "------------------------------------------------------------------------------------------\n",
      "\n",
      "\n",
      "Training complete!\n"
     ]
    },
    {
     "data": {
      "image/png": "[encoded data removed]",
      "text/plain": [
       "<Figure size 1200x400 with 2 Axes>"
      ]
     },
     "metadata": {},
     "output_type": "display_data"
    }
   ],
   "source": [
    "learning_rates = [1e-4, 5e-5, 3e-5]\n",
    "epochs_n = 3\n",
    "for learning_rate in learning_rates: \n",
    "    bert_classifier, optimizer, scheduler = initialize_model(classifier, lr=learning_rate, epochs=epochs_n)\n",
    "    epoch_train_loss, epoch_val_loss, epoch_train_acc, epoch_val_acc = train(bert_classifier, train_dataloader, val_dataloader, epochs=epochs_n, evaluation=True)\n",
    "    \n",
    "    plot_training_history(epoch_train_acc, epoch_val_acc, epoch_train_loss, epoch_val_loss, 'Classifier 2', learning_rate)\n",
    "    # Compute predicted probabilities on the test set\n",
    "    probs = bert_predict(bert_classifier, test_dataloader)\n",
    "    y_pred = np.argmax(probs, axis=1)\n",
    "    # # Evaluate the Bert classifier\n",
    "    evaluate_matrix(y_pred, y_test)"
   ]
  },
  {
   "cell_type": "code",
   "execution_count": 41,
   "metadata": {
    "scrolled": true
   },
   "outputs": [],
   "source": [
    "# learning_rates = [5e-5]\n",
    "# epochs_n = 3\n",
    "# for learning_rate in learning_rates: \n",
    "#     bert_classifier, optimizer, scheduler = initialize_model(classifier, lr=learning_rate, epochs=epochs_n)\n",
    "#     epoch_train_loss, epoch_val_loss, epoch_train_acc, epoch_val_acc = train(bert_classifier, train_dataloader, val_dataloader, epochs=epochs_n, evaluation=True)\n",
    "    \n",
    "#     plot_training_history(epoch_train_acc, epoch_val_acc, epoch_train_loss, epoch_val_loss, 'Classifier 2', learning_rate)\n",
    "#     # Compute predicted probabilities on the test set\n",
    "#     probs = bert_predict(bert_classifier, test_dataloader)\n",
    "#     y_pred = np.argmax(probs, axis=1)\n",
    "#     # # Evaluate the Bert classifier\n",
    "#     evaluate_matrix(y_pred, y_test)"
   ]
  },
  {
   "cell_type": "code",
   "execution_count": 42,
   "metadata": {},
   "outputs": [
    {
     "name": "stderr",
     "output_type": "stream",
     "text": [
      "'ls' 不是内部或外部命令，也不是可运行的程序\n",
      "或批处理文件。\n"
     ]
    }
   ],
   "source": [
    "!ls"
   ]
  },
  {
   "cell_type": "markdown",
   "metadata": {
    "id": "37wQG3dyywZ_"
   },
   "source": [
    "# Save Model\n"
   ]
  },
  {
   "cell_type": "code",
   "execution_count": 43,
   "metadata": {
    "id": "PpgSJMB4y2Nm"
   },
   "outputs": [],
   "source": [
    "torch.save(bert_classifier, './Model/ABAS_model_2')"
   ]
  },
  {
   "cell_type": "markdown",
   "metadata": {
    "id": "nU5ofCN0yljU"
   },
   "source": [
    "# Inference"
   ]
  },
  {
   "cell_type": "code",
   "execution_count": 44,
   "metadata": {},
   "outputs": [],
   "source": [
    "def bert_predict_label(model, dataloader):\n",
    "    \"\"\"Perform a forward pass on the trained BERT model to predict probabilities\n",
    "    on the test set.\n",
    "    \"\"\"\n",
    "    # Put the model into the evaluation mode. The dropout layers are disabled during\n",
    "    # the test time.\n",
    "    model.eval()\n",
    "\n",
    "    all_logits = []\n",
    "\n",
    "    # For each batch in our test set...\n",
    "    for batch in dataloader:\n",
    "        # Load batch to GPU\n",
    "        b_input_ids, b_attn_mask = tuple(t.to(device) for t in batch)[:2]\n",
    "\n",
    "        # Compute logits\n",
    "        with torch.no_grad():\n",
    "            logits = model(b_input_ids, b_attn_mask)\n",
    "        all_logits.append(logits)\n",
    "    \n",
    "    # Concatenate logits from each batch\n",
    "    all_logits = torch.cat(all_logits, dim=0)\n",
    "\n",
    "    # Apply softmax to calculate probabilities\n",
    "    probs = F.softmax(all_logits, dim=1).cpu().numpy()\n",
    "    y_pred = np.argmax(probs, axis=1)\n",
    "    labels_decoded = encoder.inverse_transform(y_pred)\n",
    "    \n",
    "    return labels_decoded"
   ]
  },
  {
   "cell_type": "code",
   "execution_count": 45,
   "metadata": {
    "id": "iSm4f3wwys53"
   },
   "outputs": [],
   "source": [
    "# load model\n",
    "saved_model_1 = torch.load('./Model/ABAS_model_1')\n",
    "# saved_model_2 = torch.load('./Model/ABAS_model_2')"
   ]
  },
  {
   "cell_type": "code",
   "execution_count": 46,
   "metadata": {},
   "outputs": [
    {
     "data": {
      "text/plain": [
       "array(['NEU', 'NEU', 'POS', 'NEU', 'NEU', 'NEU', 'NEU', 'POS', 'POS',\n",
       "       'POS', 'NEU'], dtype=object)"
      ]
     },
     "execution_count": 46,
     "metadata": {},
     "output_type": "execute_result"
    }
   ],
   "source": [
    "lables = bert_predict_label(saved_model_1, test_dataloader)\n",
    "lables[0:11]"
   ]
  },
  {
   "cell_type": "markdown",
   "metadata": {},
   "source": [
    "# Predict Rest Data"
   ]
  },
  {
   "cell_type": "code",
   "execution_count": 47,
   "metadata": {},
   "outputs": [
    {
     "data": {
      "text/plain": [
       "0                               Arab Street\n",
       "1      Buddha Tooth Relic Temple and Museum\n",
       "2                               Clarke Quay\n",
       "3                        Gardens by the Bay\n",
       "4                          Jurong Bird Park\n",
       "5     ArtScience Museum at Marina Bay Sands\n",
       "6                       Maxwell Food Centre\n",
       "7                              Merlion Park\n",
       "8                            Mustafa Centre\n",
       "9              National Museum of Singapore\n",
       "10                   National Orchid Garden\n",
       "11                             Night Safari\n",
       "12                             Orchard Road\n",
       "13                            River Wonders\n",
       "14           Sands Skypark Observation Deck\n",
       "15                          Singapore Flyer\n",
       "16                          Singapore River\n",
       "17                            Singapore Zoo\n",
       "18                Singapore Botanic Gardens\n",
       "19        Singapore Mass Rapid Transit SMRT\n",
       "Name: Place, dtype: object"
      ]
     },
     "execution_count": 47,
     "metadata": {},
     "output_type": "execute_result"
    }
   ],
   "source": [
    "amusements"
   ]
  },
  {
   "cell_type": "code",
   "execution_count": null,
   "metadata": {},
   "outputs": [],
   "source": [
    "# load data\n",
    "batch_size = 16\n",
    "cols = ['place', 'reviewer', 'reviewer_location', 'reviewer_contributions',\n",
    "       'review_rating', 'review_type', 'review_date', 'review_title',\n",
    "       'review_text', 'review_preprocessed', 'aspect_term', 'aspect',\n",
    "       ]\n",
    "\n",
    "amusement_n = 0 \n",
    "for amusement in amusements:\n",
    "    amusement_n +=1\n",
    "    print(f'{amusement_n} processing {amusement}')\n",
    "    \n",
    "    file = f'./SentenceInfer/infer-{amusement}.csv'\n",
    "    output_file = f'./SentenceInferData/infer-label-{amusement}.csv'\n",
    "    \n",
    "    df = pd.read_csv(file)[cols]\n",
    "    aspects = [aspect.replace('\\'','').replace('[','').replace(']','') for aspect in df['aspect']]\n",
    "    X = [ aspect + ' [SEP] ' + text for aspect, text in zip(df['aspect'], df['review_text'])]\n",
    "    \n",
    "\n",
    "    # Run function `preprocessing_for_bert` on the train set and the validation set\n",
    "    print('Tokenizing data...')\n",
    "    inputs, masks = preprocessing_for_bert(X)\n",
    "\n",
    "    # Create the DataLoader \n",
    "    data = TensorDataset(inputs, masks)\n",
    "    sampler = SequentialSampler(data)\n",
    "    dataloader = DataLoader(data, sampler=sampler, batch_size=batch_size)\n",
    "\n",
    "    print('Predicting label...')\n",
    "    lables = bert_predict_label(saved_model_1, dataloader)\n",
    "    df['sentiment'] = lables\n",
    "    df.to_csv(output_file, index=False)\n",
    "    \n"
   ]
  }
 ],
 "metadata": {
  "colab": {
   "authorship_tag": "ABX9TyOBS9Qpbp7OsYipjvYim9Y2",
   "provenance": [],
   "toc_visible": true
  },
  "kernelspec": {
   "display_name": "cv",
   "language": "python",
   "name": "cv"
  },
  "language_info": {
   "codemirror_mode": {
    "name": "ipython",
    "version": 3
   },
   "file_extension": ".py",
   "mimetype": "text/x-python",
   "name": "python",
   "nbconvert_exporter": "python",
   "pygments_lexer": "ipython3",
   "version": "3.8.16"
  }
 },
 "nbformat": 4,
 "nbformat_minor": 1
}
